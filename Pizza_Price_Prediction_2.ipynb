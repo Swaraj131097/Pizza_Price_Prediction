{
 "cells": [
  {
   "cell_type": "code",
   "execution_count": 155,
   "metadata": {
    "execution": {
     "iopub.execute_input": "2021-11-10T15:01:31.761028Z",
     "iopub.status.busy": "2021-11-10T15:01:31.760268Z",
     "iopub.status.idle": "2021-11-10T15:01:32.218462Z",
     "shell.execute_reply": "2021-11-10T15:01:32.217763Z",
     "shell.execute_reply.started": "2021-11-10T15:01:31.760977Z"
    }
   },
   "outputs": [],
   "source": [
    "import pandas as pd\n",
    "import numpy as np\n",
    "import seaborn as sns\n",
    "import matplotlib.pyplot as plt\n",
    "plt.style.use('ggplot')\n",
    "sns.set_style(\"whitegrid\")\n",
    "from sklearn.model_selection import train_test_split\n",
    "from sklearn.model_selection import GridSearchCV, RandomizedSearchCV\n",
    "from sklearn.preprocessing import StandardScaler, LabelEncoder\n",
    "from sklearn.linear_model import Ridge, Lasso\n",
    "from sklearn.ensemble import RandomForestRegressor\n",
    "from sklearn.svm import SVR\n",
    "from xgboost import XGBRegressor\n",
    "from sklearn.metrics import mean_squared_error\n",
    "from sklearn.metrics import r2_score"
   ]
  },
  {
   "cell_type": "markdown",
   "metadata": {},
   "source": [
    "# Dataset loading and first analysis"
   ]
  },
  {
   "cell_type": "code",
   "execution_count": 84,
   "metadata": {
    "execution": {
     "iopub.execute_input": "2021-11-10T15:01:32.220778Z",
     "iopub.status.busy": "2021-11-10T15:01:32.219661Z",
     "iopub.status.idle": "2021-11-10T15:01:32.246903Z",
     "shell.execute_reply": "2021-11-10T15:01:32.245499Z",
     "shell.execute_reply.started": "2021-11-10T15:01:32.220727Z"
    }
   },
   "outputs": [
    {
     "data": {
      "text/html": [
       "<div>\n",
       "<style scoped>\n",
       "    .dataframe tbody tr th:only-of-type {\n",
       "        vertical-align: middle;\n",
       "    }\n",
       "\n",
       "    .dataframe tbody tr th {\n",
       "        vertical-align: top;\n",
       "    }\n",
       "\n",
       "    .dataframe thead th {\n",
       "        text-align: right;\n",
       "    }\n",
       "</style>\n",
       "<table border=\"1\" class=\"dataframe\">\n",
       "  <thead>\n",
       "    <tr style=\"text-align: right;\">\n",
       "      <th></th>\n",
       "      <th>company</th>\n",
       "      <th>price_rupiah</th>\n",
       "      <th>diameter</th>\n",
       "      <th>topping</th>\n",
       "      <th>variant</th>\n",
       "      <th>size</th>\n",
       "      <th>extra_sauce</th>\n",
       "      <th>extra_cheese</th>\n",
       "      <th>extra_mushrooms</th>\n",
       "    </tr>\n",
       "  </thead>\n",
       "  <tbody>\n",
       "    <tr>\n",
       "      <th>0</th>\n",
       "      <td>A</td>\n",
       "      <td>Rp235,000</td>\n",
       "      <td>22 inch</td>\n",
       "      <td>chicken</td>\n",
       "      <td>double_signature</td>\n",
       "      <td>jumbo</td>\n",
       "      <td>yes</td>\n",
       "      <td>yes</td>\n",
       "      <td>no</td>\n",
       "    </tr>\n",
       "    <tr>\n",
       "      <th>1</th>\n",
       "      <td>A</td>\n",
       "      <td>Rp198,000</td>\n",
       "      <td>20 inch</td>\n",
       "      <td>papperoni</td>\n",
       "      <td>double_signature</td>\n",
       "      <td>jumbo</td>\n",
       "      <td>yes</td>\n",
       "      <td>yes</td>\n",
       "      <td>no</td>\n",
       "    </tr>\n",
       "    <tr>\n",
       "      <th>2</th>\n",
       "      <td>A</td>\n",
       "      <td>Rp120,000</td>\n",
       "      <td>16 inch</td>\n",
       "      <td>mushrooms</td>\n",
       "      <td>double_signature</td>\n",
       "      <td>reguler</td>\n",
       "      <td>yes</td>\n",
       "      <td>yes</td>\n",
       "      <td>yes</td>\n",
       "    </tr>\n",
       "    <tr>\n",
       "      <th>3</th>\n",
       "      <td>A</td>\n",
       "      <td>Rp155,000</td>\n",
       "      <td>14 inch</td>\n",
       "      <td>smoked_beef</td>\n",
       "      <td>double_signature</td>\n",
       "      <td>reguler</td>\n",
       "      <td>yes</td>\n",
       "      <td>no</td>\n",
       "      <td>yes</td>\n",
       "    </tr>\n",
       "    <tr>\n",
       "      <th>4</th>\n",
       "      <td>A</td>\n",
       "      <td>Rp248,000</td>\n",
       "      <td>18 inch</td>\n",
       "      <td>mozzarella</td>\n",
       "      <td>double_signature</td>\n",
       "      <td>jumbo</td>\n",
       "      <td>yes</td>\n",
       "      <td>no</td>\n",
       "      <td>yes</td>\n",
       "    </tr>\n",
       "  </tbody>\n",
       "</table>\n",
       "</div>"
      ],
      "text/plain": [
       "  company price_rupiah diameter      topping           variant     size  \\\n",
       "0       A    Rp235,000  22 inch      chicken  double_signature    jumbo   \n",
       "1       A    Rp198,000  20 inch    papperoni  double_signature    jumbo   \n",
       "2       A    Rp120,000  16 inch    mushrooms  double_signature  reguler   \n",
       "3       A    Rp155,000  14 inch  smoked_beef  double_signature  reguler   \n",
       "4       A    Rp248,000  18 inch   mozzarella  double_signature    jumbo   \n",
       "\n",
       "  extra_sauce extra_cheese extra_mushrooms  \n",
       "0         yes          yes              no  \n",
       "1         yes          yes              no  \n",
       "2         yes          yes             yes  \n",
       "3         yes           no             yes  \n",
       "4         yes           no             yes  "
      ]
     },
     "execution_count": 84,
     "metadata": {},
     "output_type": "execute_result"
    }
   ],
   "source": [
    "df = pd.read_csv('pizza_v2.csv')\n",
    "df.head()"
   ]
  },
  {
   "cell_type": "code",
   "execution_count": 85,
   "metadata": {
    "execution": {
     "iopub.execute_input": "2021-11-10T15:01:32.250668Z",
     "iopub.status.busy": "2021-11-10T15:01:32.249859Z",
     "iopub.status.idle": "2021-11-10T15:01:32.26755Z",
     "shell.execute_reply": "2021-11-10T15:01:32.266693Z",
     "shell.execute_reply.started": "2021-11-10T15:01:32.250626Z"
    }
   },
   "outputs": [
    {
     "name": "stdout",
     "output_type": "stream",
     "text": [
      "<class 'pandas.core.frame.DataFrame'>\n",
      "RangeIndex: 129 entries, 0 to 128\n",
      "Data columns (total 9 columns):\n",
      " #   Column           Non-Null Count  Dtype \n",
      "---  ------           --------------  ----- \n",
      " 0   company          129 non-null    object\n",
      " 1   price_rupiah     129 non-null    object\n",
      " 2   diameter         129 non-null    object\n",
      " 3   topping          129 non-null    object\n",
      " 4   variant          129 non-null    object\n",
      " 5   size             129 non-null    object\n",
      " 6   extra_sauce      129 non-null    object\n",
      " 7   extra_cheese     129 non-null    object\n",
      " 8   extra_mushrooms  129 non-null    object\n",
      "dtypes: object(9)\n",
      "memory usage: 9.2+ KB\n"
     ]
    }
   ],
   "source": [
    "df.info()"
   ]
  },
  {
   "cell_type": "markdown",
   "metadata": {},
   "source": [
    "We can already see that some numerical features such as price and diameter are saved as strings. They will be changed to int values.<br>"
   ]
  },
  {
   "cell_type": "code",
   "execution_count": 86,
   "metadata": {
    "execution": {
     "iopub.execute_input": "2021-11-10T15:01:32.269593Z",
     "iopub.status.busy": "2021-11-10T15:01:32.269091Z",
     "iopub.status.idle": "2021-11-10T15:01:32.275921Z",
     "shell.execute_reply": "2021-11-10T15:01:32.274874Z",
     "shell.execute_reply.started": "2021-11-10T15:01:32.269527Z"
    }
   },
   "outputs": [],
   "source": [
    "df['price_rupiah'] = df['price_rupiah'].replace(',','')"
   ]
  },
  {
   "cell_type": "code",
   "execution_count": 87,
   "metadata": {
    "execution": {
     "iopub.execute_input": "2021-11-10T15:01:32.277959Z",
     "iopub.status.busy": "2021-11-10T15:01:32.2777Z",
     "iopub.status.idle": "2021-11-10T15:01:32.303636Z",
     "shell.execute_reply": "2021-11-10T15:01:32.30262Z",
     "shell.execute_reply.started": "2021-11-10T15:01:32.27793Z"
    }
   },
   "outputs": [
    {
     "data": {
      "text/html": [
       "<div>\n",
       "<style scoped>\n",
       "    .dataframe tbody tr th:only-of-type {\n",
       "        vertical-align: middle;\n",
       "    }\n",
       "\n",
       "    .dataframe tbody tr th {\n",
       "        vertical-align: top;\n",
       "    }\n",
       "\n",
       "    .dataframe thead th {\n",
       "        text-align: right;\n",
       "    }\n",
       "</style>\n",
       "<table border=\"1\" class=\"dataframe\">\n",
       "  <thead>\n",
       "    <tr style=\"text-align: right;\">\n",
       "      <th></th>\n",
       "      <th>company</th>\n",
       "      <th>price_rupiah</th>\n",
       "      <th>diameter</th>\n",
       "      <th>topping</th>\n",
       "      <th>variant</th>\n",
       "      <th>size</th>\n",
       "      <th>extra_sauce</th>\n",
       "      <th>extra_cheese</th>\n",
       "      <th>extra_mushrooms</th>\n",
       "    </tr>\n",
       "  </thead>\n",
       "  <tbody>\n",
       "    <tr>\n",
       "      <th>0</th>\n",
       "      <td>A</td>\n",
       "      <td>Rp235,000</td>\n",
       "      <td>22 inch</td>\n",
       "      <td>chicken</td>\n",
       "      <td>double_signature</td>\n",
       "      <td>jumbo</td>\n",
       "      <td>yes</td>\n",
       "      <td>yes</td>\n",
       "      <td>no</td>\n",
       "    </tr>\n",
       "    <tr>\n",
       "      <th>1</th>\n",
       "      <td>A</td>\n",
       "      <td>Rp198,000</td>\n",
       "      <td>20 inch</td>\n",
       "      <td>papperoni</td>\n",
       "      <td>double_signature</td>\n",
       "      <td>jumbo</td>\n",
       "      <td>yes</td>\n",
       "      <td>yes</td>\n",
       "      <td>no</td>\n",
       "    </tr>\n",
       "    <tr>\n",
       "      <th>2</th>\n",
       "      <td>A</td>\n",
       "      <td>Rp120,000</td>\n",
       "      <td>16 inch</td>\n",
       "      <td>mushrooms</td>\n",
       "      <td>double_signature</td>\n",
       "      <td>reguler</td>\n",
       "      <td>yes</td>\n",
       "      <td>yes</td>\n",
       "      <td>yes</td>\n",
       "    </tr>\n",
       "    <tr>\n",
       "      <th>3</th>\n",
       "      <td>A</td>\n",
       "      <td>Rp155,000</td>\n",
       "      <td>14 inch</td>\n",
       "      <td>smoked_beef</td>\n",
       "      <td>double_signature</td>\n",
       "      <td>reguler</td>\n",
       "      <td>yes</td>\n",
       "      <td>no</td>\n",
       "      <td>yes</td>\n",
       "    </tr>\n",
       "    <tr>\n",
       "      <th>4</th>\n",
       "      <td>A</td>\n",
       "      <td>Rp248,000</td>\n",
       "      <td>18 inch</td>\n",
       "      <td>mozzarella</td>\n",
       "      <td>double_signature</td>\n",
       "      <td>jumbo</td>\n",
       "      <td>yes</td>\n",
       "      <td>no</td>\n",
       "      <td>yes</td>\n",
       "    </tr>\n",
       "  </tbody>\n",
       "</table>\n",
       "</div>"
      ],
      "text/plain": [
       "  company price_rupiah diameter      topping           variant     size  \\\n",
       "0       A    Rp235,000  22 inch      chicken  double_signature    jumbo   \n",
       "1       A    Rp198,000  20 inch    papperoni  double_signature    jumbo   \n",
       "2       A    Rp120,000  16 inch    mushrooms  double_signature  reguler   \n",
       "3       A    Rp155,000  14 inch  smoked_beef  double_signature  reguler   \n",
       "4       A    Rp248,000  18 inch   mozzarella  double_signature    jumbo   \n",
       "\n",
       "  extra_sauce extra_cheese extra_mushrooms  \n",
       "0         yes          yes              no  \n",
       "1         yes          yes              no  \n",
       "2         yes          yes             yes  \n",
       "3         yes           no             yes  \n",
       "4         yes           no             yes  "
      ]
     },
     "execution_count": 87,
     "metadata": {},
     "output_type": "execute_result"
    }
   ],
   "source": [
    "df.head()"
   ]
  },
  {
   "cell_type": "code",
   "execution_count": 88,
   "metadata": {
    "execution": {
     "iopub.execute_input": "2021-11-10T15:01:32.305933Z",
     "iopub.status.busy": "2021-11-10T15:01:32.305134Z",
     "iopub.status.idle": "2021-11-10T15:01:32.315527Z",
     "shell.execute_reply": "2021-11-10T15:01:32.314162Z",
     "shell.execute_reply.started": "2021-11-10T15:01:32.305884Z"
    }
   },
   "outputs": [],
   "source": [
    "#create a new column that will include the price \n",
    "df['price'] = df['price_rupiah'].replace(',', '').apply(lambda x: x[2:])"
   ]
  },
  {
   "cell_type": "code",
   "execution_count": 89,
   "metadata": {
    "execution": {
     "iopub.execute_input": "2021-11-10T15:01:32.317899Z",
     "iopub.status.busy": "2021-11-10T15:01:32.316947Z",
     "iopub.status.idle": "2021-11-10T15:01:32.331508Z",
     "shell.execute_reply": "2021-11-10T15:01:32.330225Z",
     "shell.execute_reply.started": "2021-11-10T15:01:32.317851Z"
    }
   },
   "outputs": [],
   "source": [
    "df = df.drop('price_rupiah', axis=1)"
   ]
  },
  {
   "cell_type": "code",
   "execution_count": 90,
   "metadata": {
    "execution": {
     "iopub.execute_input": "2021-11-10T15:01:32.333942Z",
     "iopub.status.busy": "2021-11-10T15:01:32.333632Z",
     "iopub.status.idle": "2021-11-10T15:01:32.347066Z",
     "shell.execute_reply": "2021-11-10T15:01:32.345971Z",
     "shell.execute_reply.started": "2021-11-10T15:01:32.333914Z"
    }
   },
   "outputs": [],
   "source": [
    "df['price'] = df['price'].apply(lambda x: x.replace(',',''))"
   ]
  },
  {
   "cell_type": "code",
   "execution_count": 91,
   "metadata": {
    "execution": {
     "iopub.execute_input": "2021-11-10T15:01:32.349313Z",
     "iopub.status.busy": "2021-11-10T15:01:32.34821Z",
     "iopub.status.idle": "2021-11-10T15:01:32.358151Z",
     "shell.execute_reply": "2021-11-10T15:01:32.356968Z",
     "shell.execute_reply.started": "2021-11-10T15:01:32.34927Z"
    }
   },
   "outputs": [],
   "source": [
    "df['price'] = df['price'].astype('int64')"
   ]
  },
  {
   "cell_type": "code",
   "execution_count": 92,
   "metadata": {
    "execution": {
     "iopub.execute_input": "2021-11-10T15:01:32.359801Z",
     "iopub.status.busy": "2021-11-10T15:01:32.35951Z",
     "iopub.status.idle": "2021-11-10T15:01:32.371986Z",
     "shell.execute_reply": "2021-11-10T15:01:32.37116Z",
     "shell.execute_reply.started": "2021-11-10T15:01:32.359773Z"
    }
   },
   "outputs": [],
   "source": [
    "#remove 'inch' from the diameter column\n",
    "df['diameter'] = df['diameter'].apply(lambda x: x.replace('inch',''))"
   ]
  },
  {
   "cell_type": "code",
   "execution_count": 93,
   "metadata": {
    "execution": {
     "iopub.execute_input": "2021-11-10T15:01:32.373781Z",
     "iopub.status.busy": "2021-11-10T15:01:32.373326Z",
     "iopub.status.idle": "2021-11-10T15:01:32.389584Z",
     "shell.execute_reply": "2021-11-10T15:01:32.388779Z",
     "shell.execute_reply.started": "2021-11-10T15:01:32.37374Z"
    }
   },
   "outputs": [],
   "source": [
    "df['diameter'] = df['diameter'].astype('float')"
   ]
  },
  {
   "cell_type": "code",
   "execution_count": 94,
   "metadata": {
    "execution": {
     "iopub.execute_input": "2021-11-10T15:01:32.39449Z",
     "iopub.status.busy": "2021-11-10T15:01:32.393945Z",
     "iopub.status.idle": "2021-11-10T15:01:32.416098Z",
     "shell.execute_reply": "2021-11-10T15:01:32.414985Z",
     "shell.execute_reply.started": "2021-11-10T15:01:32.394442Z"
    }
   },
   "outputs": [
    {
     "data": {
      "text/html": [
       "<div>\n",
       "<style scoped>\n",
       "    .dataframe tbody tr th:only-of-type {\n",
       "        vertical-align: middle;\n",
       "    }\n",
       "\n",
       "    .dataframe tbody tr th {\n",
       "        vertical-align: top;\n",
       "    }\n",
       "\n",
       "    .dataframe thead th {\n",
       "        text-align: right;\n",
       "    }\n",
       "</style>\n",
       "<table border=\"1\" class=\"dataframe\">\n",
       "  <thead>\n",
       "    <tr style=\"text-align: right;\">\n",
       "      <th></th>\n",
       "      <th>company</th>\n",
       "      <th>diameter</th>\n",
       "      <th>topping</th>\n",
       "      <th>variant</th>\n",
       "      <th>size</th>\n",
       "      <th>extra_sauce</th>\n",
       "      <th>extra_cheese</th>\n",
       "      <th>extra_mushrooms</th>\n",
       "      <th>price</th>\n",
       "    </tr>\n",
       "  </thead>\n",
       "  <tbody>\n",
       "    <tr>\n",
       "      <th>0</th>\n",
       "      <td>A</td>\n",
       "      <td>22.0</td>\n",
       "      <td>chicken</td>\n",
       "      <td>double_signature</td>\n",
       "      <td>jumbo</td>\n",
       "      <td>yes</td>\n",
       "      <td>yes</td>\n",
       "      <td>no</td>\n",
       "      <td>235000</td>\n",
       "    </tr>\n",
       "    <tr>\n",
       "      <th>1</th>\n",
       "      <td>A</td>\n",
       "      <td>20.0</td>\n",
       "      <td>papperoni</td>\n",
       "      <td>double_signature</td>\n",
       "      <td>jumbo</td>\n",
       "      <td>yes</td>\n",
       "      <td>yes</td>\n",
       "      <td>no</td>\n",
       "      <td>198000</td>\n",
       "    </tr>\n",
       "    <tr>\n",
       "      <th>2</th>\n",
       "      <td>A</td>\n",
       "      <td>16.0</td>\n",
       "      <td>mushrooms</td>\n",
       "      <td>double_signature</td>\n",
       "      <td>reguler</td>\n",
       "      <td>yes</td>\n",
       "      <td>yes</td>\n",
       "      <td>yes</td>\n",
       "      <td>120000</td>\n",
       "    </tr>\n",
       "    <tr>\n",
       "      <th>3</th>\n",
       "      <td>A</td>\n",
       "      <td>14.0</td>\n",
       "      <td>smoked_beef</td>\n",
       "      <td>double_signature</td>\n",
       "      <td>reguler</td>\n",
       "      <td>yes</td>\n",
       "      <td>no</td>\n",
       "      <td>yes</td>\n",
       "      <td>155000</td>\n",
       "    </tr>\n",
       "    <tr>\n",
       "      <th>4</th>\n",
       "      <td>A</td>\n",
       "      <td>18.0</td>\n",
       "      <td>mozzarella</td>\n",
       "      <td>double_signature</td>\n",
       "      <td>jumbo</td>\n",
       "      <td>yes</td>\n",
       "      <td>no</td>\n",
       "      <td>yes</td>\n",
       "      <td>248000</td>\n",
       "    </tr>\n",
       "  </tbody>\n",
       "</table>\n",
       "</div>"
      ],
      "text/plain": [
       "  company  diameter      topping           variant     size extra_sauce  \\\n",
       "0       A      22.0      chicken  double_signature    jumbo         yes   \n",
       "1       A      20.0    papperoni  double_signature    jumbo         yes   \n",
       "2       A      16.0    mushrooms  double_signature  reguler         yes   \n",
       "3       A      14.0  smoked_beef  double_signature  reguler         yes   \n",
       "4       A      18.0   mozzarella  double_signature    jumbo         yes   \n",
       "\n",
       "  extra_cheese extra_mushrooms   price  \n",
       "0          yes              no  235000  \n",
       "1          yes              no  198000  \n",
       "2          yes             yes  120000  \n",
       "3           no             yes  155000  \n",
       "4           no             yes  248000  "
      ]
     },
     "execution_count": 94,
     "metadata": {},
     "output_type": "execute_result"
    }
   ],
   "source": [
    "df.head()"
   ]
  },
  {
   "cell_type": "markdown",
   "metadata": {},
   "source": [
    "Now it is possible to extract useful information of these numerical features:"
   ]
  },
  {
   "cell_type": "code",
   "execution_count": 95,
   "metadata": {
    "execution": {
     "iopub.execute_input": "2021-11-10T15:01:32.420183Z",
     "iopub.status.busy": "2021-11-10T15:01:32.419701Z",
     "iopub.status.idle": "2021-11-10T15:01:32.439788Z",
     "shell.execute_reply": "2021-11-10T15:01:32.438791Z",
     "shell.execute_reply.started": "2021-11-10T15:01:32.420137Z"
    }
   },
   "outputs": [
    {
     "data": {
      "text/html": [
       "<div>\n",
       "<style scoped>\n",
       "    .dataframe tbody tr th:only-of-type {\n",
       "        vertical-align: middle;\n",
       "    }\n",
       "\n",
       "    .dataframe tbody tr th {\n",
       "        vertical-align: top;\n",
       "    }\n",
       "\n",
       "    .dataframe thead th {\n",
       "        text-align: right;\n",
       "    }\n",
       "</style>\n",
       "<table border=\"1\" class=\"dataframe\">\n",
       "  <thead>\n",
       "    <tr style=\"text-align: right;\">\n",
       "      <th></th>\n",
       "      <th>diameter</th>\n",
       "      <th>price</th>\n",
       "    </tr>\n",
       "  </thead>\n",
       "  <tbody>\n",
       "    <tr>\n",
       "      <th>count</th>\n",
       "      <td>129.000000</td>\n",
       "      <td>129.000000</td>\n",
       "    </tr>\n",
       "    <tr>\n",
       "      <th>mean</th>\n",
       "      <td>12.976744</td>\n",
       "      <td>87151.162791</td>\n",
       "    </tr>\n",
       "    <tr>\n",
       "      <th>std</th>\n",
       "      <td>3.272674</td>\n",
       "      <td>44706.097732</td>\n",
       "    </tr>\n",
       "    <tr>\n",
       "      <th>min</th>\n",
       "      <td>8.000000</td>\n",
       "      <td>23500.000000</td>\n",
       "    </tr>\n",
       "    <tr>\n",
       "      <th>25%</th>\n",
       "      <td>12.000000</td>\n",
       "      <td>51000.000000</td>\n",
       "    </tr>\n",
       "    <tr>\n",
       "      <th>50%</th>\n",
       "      <td>12.000000</td>\n",
       "      <td>78000.000000</td>\n",
       "    </tr>\n",
       "    <tr>\n",
       "      <th>75%</th>\n",
       "      <td>14.000000</td>\n",
       "      <td>105000.000000</td>\n",
       "    </tr>\n",
       "    <tr>\n",
       "      <th>max</th>\n",
       "      <td>22.000000</td>\n",
       "      <td>248000.000000</td>\n",
       "    </tr>\n",
       "  </tbody>\n",
       "</table>\n",
       "</div>"
      ],
      "text/plain": [
       "         diameter          price\n",
       "count  129.000000     129.000000\n",
       "mean    12.976744   87151.162791\n",
       "std      3.272674   44706.097732\n",
       "min      8.000000   23500.000000\n",
       "25%     12.000000   51000.000000\n",
       "50%     12.000000   78000.000000\n",
       "75%     14.000000  105000.000000\n",
       "max     22.000000  248000.000000"
      ]
     },
     "execution_count": 95,
     "metadata": {},
     "output_type": "execute_result"
    }
   ],
   "source": [
    "df.describe()"
   ]
  },
  {
   "cell_type": "markdown",
   "metadata": {},
   "source": [
    "Diameter:<br>\n",
    "The mean diameter is around 13 inches<br>\n",
    "The minimum diameter is 8 inches<br>\n",
    "The maximum diameter is 22 inches<br>\n",
    "\n",
    "Price:<br>\n",
    "The mean price is 87,151 rupiah (around 5.20 euros)<br>\n",
    "The cheapest pizza in the dataset is 23,500 rupiah (1.40 euro)<br>\n",
    "The most expensive one is 248,000 rupiah (14.77 euro)<br>"
   ]
  },
  {
   "cell_type": "markdown",
   "metadata": {},
   "source": [
    "# Exploratory Data Analysis"
   ]
  },
  {
   "cell_type": "markdown",
   "metadata": {},
   "source": [
    "### Numerical features analysis"
   ]
  },
  {
   "cell_type": "code",
   "execution_count": 96,
   "metadata": {
    "execution": {
     "iopub.execute_input": "2021-11-10T15:01:32.442454Z",
     "iopub.status.busy": "2021-11-10T15:01:32.441905Z",
     "iopub.status.idle": "2021-11-10T15:01:33.024586Z",
     "shell.execute_reply": "2021-11-10T15:01:33.023622Z",
     "shell.execute_reply.started": "2021-11-10T15:01:32.442408Z"
    }
   },
   "outputs": [
    {
     "data": {
      "image/png": "[encoded data removed]",
      "text/plain": [
       "<Figure size 800x300 with 2 Axes>"
      ]
     },
     "metadata": {},
     "output_type": "display_data"
    },
    {
     "data": {
      "image/png": "[encoded data removed]",
      "text/plain": [
       "<Figure size 500x500 with 1 Axes>"
      ]
     },
     "metadata": {},
     "output_type": "display_data"
    }
   ],
   "source": [
    "sns.displot(x='diameter', data=df, kde=False)\n",
    "plt.title('Diameter distribution')\n",
    "plt.show()"
   ]
  },
  {
   "cell_type": "markdown",
   "metadata": {},
   "source": [
    "The diameter distribution is skewed right"
   ]
  },
  {
   "cell_type": "code",
   "execution_count": 97,
   "metadata": {
    "execution": {
     "iopub.execute_input": "2021-11-10T15:01:33.026021Z",
     "iopub.status.busy": "2021-11-10T15:01:33.025783Z",
     "iopub.status.idle": "2021-11-10T15:01:33.411647Z",
     "shell.execute_reply": "2021-11-10T15:01:33.410699Z",
     "shell.execute_reply.started": "2021-11-10T15:01:33.025994Z"
    }
   },
   "outputs": [
    {
     "data": {
      "image/png": "[encoded data removed]",
      "text/plain": [
       "<Figure size 500x500 with 1 Axes>"
      ]
     },
     "metadata": {},
     "output_type": "display_data"
    }
   ],
   "source": [
    "sns.displot(x='price', data=df)\n",
    "plt.title('Price distribution')\n",
    "plt.show()"
   ]
  },
  {
   "cell_type": "markdown",
   "metadata": {},
   "source": [
    "The price distribition is right skewed as well."
   ]
  },
  {
   "cell_type": "markdown",
   "metadata": {},
   "source": [
    "### Topping analysis"
   ]
  },
  {
   "cell_type": "code",
   "execution_count": 98,
   "metadata": {
    "execution": {
     "iopub.execute_input": "2021-11-10T15:01:33.413397Z",
     "iopub.status.busy": "2021-11-10T15:01:33.413078Z",
     "iopub.status.idle": "2021-11-10T15:01:33.422266Z",
     "shell.execute_reply": "2021-11-10T15:01:33.421295Z",
     "shell.execute_reply.started": "2021-11-10T15:01:33.413358Z"
    }
   },
   "outputs": [
    {
     "data": {
      "text/plain": [
       "0          chicken\n",
       "1        papperoni\n",
       "2        mushrooms\n",
       "3      smoked_beef\n",
       "4       mozzarella\n",
       "          ...     \n",
       "124           tuna\n",
       "125           tuna\n",
       "126           tuna\n",
       "127           meat\n",
       "128           meat\n",
       "Name: topping, Length: 129, dtype: object"
      ]
     },
     "execution_count": 98,
     "metadata": {},
     "output_type": "execute_result"
    }
   ],
   "source": [
    "df['topping']"
   ]
  },
  {
   "cell_type": "markdown",
   "metadata": {},
   "source": [
    "There seems to be two mispelling error: 'papperoni' instead of 'pepperoni' and 'black_papper' instead of 'black_pepper'. They will be corrected."
   ]
  },
  {
   "cell_type": "code",
   "execution_count": 99,
   "metadata": {
    "execution": {
     "iopub.execute_input": "2021-11-10T15:01:33.42417Z",
     "iopub.status.busy": "2021-11-10T15:01:33.423756Z",
     "iopub.status.idle": "2021-11-10T15:01:33.435062Z",
     "shell.execute_reply": "2021-11-10T15:01:33.433985Z",
     "shell.execute_reply.started": "2021-11-10T15:01:33.42413Z"
    }
   },
   "outputs": [],
   "source": [
    "df['topping'] = df['topping'].replace('papperoni','pepperoni')\n",
    "df['topping'] = df['topping'].replace('black_papper','black_pepper')"
   ]
  },
  {
   "cell_type": "code",
   "execution_count": 100,
   "metadata": {
    "execution": {
     "iopub.execute_input": "2021-11-10T15:01:33.436865Z",
     "iopub.status.busy": "2021-11-10T15:01:33.436317Z",
     "iopub.status.idle": "2021-11-10T15:01:33.720367Z",
     "shell.execute_reply": "2021-11-10T15:01:33.719451Z",
     "shell.execute_reply.started": "2021-11-10T15:01:33.436828Z"
    }
   },
   "outputs": [
    {
     "data": {
      "image/png": "[encoded data removed]",
      "text/plain": [
       "<Figure size 500x500 with 1 Axes>"
      ]
     },
     "metadata": {},
     "output_type": "display_data"
    }
   ],
   "source": [
    "plt.figure(figsize=(5,5))\n",
    "ax=sns.countplot(y='topping', data=df, palette='viridis');\n",
    "plt.title('Toppings')\n",
    "plt.show()"
   ]
  },
  {
   "cell_type": "markdown",
   "metadata": {},
   "source": [
    "The most popular toppings among the pizzas are chicken, mushrooms, smoked_beef and mozzarella"
   ]
  },
  {
   "cell_type": "code",
   "execution_count": 101,
   "metadata": {
    "execution": {
     "iopub.execute_input": "2021-11-10T15:01:33.721797Z",
     "iopub.status.busy": "2021-11-10T15:01:33.721515Z",
     "iopub.status.idle": "2021-11-10T15:01:34.117212Z",
     "shell.execute_reply": "2021-11-10T15:01:34.116138Z",
     "shell.execute_reply.started": "2021-11-10T15:01:33.72177Z"
    }
   },
   "outputs": [
    {
     "data": {
      "image/png": "[encoded data removed]",
      "text/plain": [
       "<Figure size 700x600 with 1 Axes>"
      ]
     },
     "metadata": {},
     "output_type": "display_data"
    }
   ],
   "source": [
    "plt.figure(figsize=(7,6))\n",
    "sns.boxplot(y='topping', x='price', data=df, palette='viridis')\n",
    "plt.title('Price by topping')\n",
    "plt.show()"
   ]
  },
  {
   "cell_type": "markdown",
   "metadata": {},
   "source": [
    "From this plot we can say:\n",
    "- Pepperoni pizza on average are more expensive than other pizzas.\n",
    "- There are some outliers for mozzarella, mushrooms and chicken pizzas.\n",
    "- It looks like there is just one onion pizza \n"
   ]
  },
  {
   "cell_type": "markdown",
   "metadata": {},
   "source": [
    "The only pizza with onions is:"
   ]
  },
  {
   "cell_type": "code",
   "execution_count": 102,
   "metadata": {
    "execution": {
     "iopub.execute_input": "2021-11-10T15:01:34.119299Z",
     "iopub.status.busy": "2021-11-10T15:01:34.118749Z",
     "iopub.status.idle": "2021-11-10T15:01:34.135522Z",
     "shell.execute_reply": "2021-11-10T15:01:34.134688Z",
     "shell.execute_reply.started": "2021-11-10T15:01:34.119256Z"
    }
   },
   "outputs": [
    {
     "data": {
      "text/html": [
       "<div>\n",
       "<style scoped>\n",
       "    .dataframe tbody tr th:only-of-type {\n",
       "        vertical-align: middle;\n",
       "    }\n",
       "\n",
       "    .dataframe tbody tr th {\n",
       "        vertical-align: top;\n",
       "    }\n",
       "\n",
       "    .dataframe thead th {\n",
       "        text-align: right;\n",
       "    }\n",
       "</style>\n",
       "<table border=\"1\" class=\"dataframe\">\n",
       "  <thead>\n",
       "    <tr style=\"text-align: right;\">\n",
       "      <th></th>\n",
       "      <th>company</th>\n",
       "      <th>diameter</th>\n",
       "      <th>topping</th>\n",
       "      <th>variant</th>\n",
       "      <th>size</th>\n",
       "      <th>extra_sauce</th>\n",
       "      <th>extra_cheese</th>\n",
       "      <th>extra_mushrooms</th>\n",
       "      <th>price</th>\n",
       "    </tr>\n",
       "  </thead>\n",
       "  <tbody>\n",
       "    <tr>\n",
       "      <th>59</th>\n",
       "      <td>C</td>\n",
       "      <td>12.0</td>\n",
       "      <td>onion</td>\n",
       "      <td>extravaganza</td>\n",
       "      <td>medium</td>\n",
       "      <td>yes</td>\n",
       "      <td>yes</td>\n",
       "      <td>no</td>\n",
       "      <td>60000</td>\n",
       "    </tr>\n",
       "  </tbody>\n",
       "</table>\n",
       "</div>"
      ],
      "text/plain": [
       "   company  diameter topping       variant    size extra_sauce extra_cheese  \\\n",
       "59       C      12.0   onion  extravaganza  medium         yes          yes   \n",
       "\n",
       "   extra_mushrooms  price  \n",
       "59              no  60000  "
      ]
     },
     "execution_count": 102,
     "metadata": {},
     "output_type": "execute_result"
    }
   ],
   "source": [
    "df[df['topping']=='onion']"
   ]
  },
  {
   "cell_type": "markdown",
   "metadata": {},
   "source": [
    "While the most expensive pizza is:"
   ]
  },
  {
   "cell_type": "code",
   "execution_count": 103,
   "metadata": {
    "execution": {
     "iopub.execute_input": "2021-11-10T15:01:34.137334Z",
     "iopub.status.busy": "2021-11-10T15:01:34.136497Z",
     "iopub.status.idle": "2021-11-10T15:01:34.158781Z",
     "shell.execute_reply": "2021-11-10T15:01:34.157761Z",
     "shell.execute_reply.started": "2021-11-10T15:01:34.137292Z"
    }
   },
   "outputs": [
    {
     "data": {
      "text/html": [
       "<div>\n",
       "<style scoped>\n",
       "    .dataframe tbody tr th:only-of-type {\n",
       "        vertical-align: middle;\n",
       "    }\n",
       "\n",
       "    .dataframe tbody tr th {\n",
       "        vertical-align: top;\n",
       "    }\n",
       "\n",
       "    .dataframe thead th {\n",
       "        text-align: right;\n",
       "    }\n",
       "</style>\n",
       "<table border=\"1\" class=\"dataframe\">\n",
       "  <thead>\n",
       "    <tr style=\"text-align: right;\">\n",
       "      <th></th>\n",
       "      <th>company</th>\n",
       "      <th>diameter</th>\n",
       "      <th>topping</th>\n",
       "      <th>variant</th>\n",
       "      <th>size</th>\n",
       "      <th>extra_sauce</th>\n",
       "      <th>extra_cheese</th>\n",
       "      <th>extra_mushrooms</th>\n",
       "      <th>price</th>\n",
       "    </tr>\n",
       "  </thead>\n",
       "  <tbody>\n",
       "    <tr>\n",
       "      <th>4</th>\n",
       "      <td>A</td>\n",
       "      <td>18.0</td>\n",
       "      <td>mozzarella</td>\n",
       "      <td>double_signature</td>\n",
       "      <td>jumbo</td>\n",
       "      <td>yes</td>\n",
       "      <td>no</td>\n",
       "      <td>yes</td>\n",
       "      <td>248000</td>\n",
       "    </tr>\n",
       "  </tbody>\n",
       "</table>\n",
       "</div>"
      ],
      "text/plain": [
       "  company  diameter     topping           variant   size extra_sauce  \\\n",
       "4       A      18.0  mozzarella  double_signature  jumbo         yes   \n",
       "\n",
       "  extra_cheese extra_mushrooms   price  \n",
       "4           no             yes  248000  "
      ]
     },
     "execution_count": 103,
     "metadata": {},
     "output_type": "execute_result"
    }
   ],
   "source": [
    "df[df['price'] > 240000]"
   ]
  },
  {
   "cell_type": "markdown",
   "metadata": {},
   "source": [
    "### Size analysis"
   ]
  },
  {
   "cell_type": "code",
   "execution_count": 104,
   "metadata": {
    "execution": {
     "iopub.execute_input": "2021-11-10T15:01:34.161247Z",
     "iopub.status.busy": "2021-11-10T15:01:34.160588Z",
     "iopub.status.idle": "2021-11-10T15:01:34.173257Z",
     "shell.execute_reply": "2021-11-10T15:01:34.172328Z",
     "shell.execute_reply.started": "2021-11-10T15:01:34.1612Z"
    }
   },
   "outputs": [
    {
     "data": {
      "text/plain": [
       "0        jumbo\n",
       "1        jumbo\n",
       "2      reguler\n",
       "3      reguler\n",
       "4        jumbo\n",
       "        ...   \n",
       "124      small\n",
       "125     medium\n",
       "126      large\n",
       "127      small\n",
       "128     medium\n",
       "Name: size, Length: 129, dtype: object"
      ]
     },
     "execution_count": 104,
     "metadata": {},
     "output_type": "execute_result"
    }
   ],
   "source": [
    "df['size']"
   ]
  },
  {
   "cell_type": "markdown",
   "metadata": {},
   "source": [
    "There seems to be a mispelled word: 'reguler' instead of 'regular'. It will be corrected."
   ]
  },
  {
   "cell_type": "code",
   "execution_count": 105,
   "metadata": {
    "execution": {
     "iopub.execute_input": "2021-11-10T15:01:34.175599Z",
     "iopub.status.busy": "2021-11-10T15:01:34.174916Z",
     "iopub.status.idle": "2021-11-10T15:01:34.184064Z",
     "shell.execute_reply": "2021-11-10T15:01:34.183072Z",
     "shell.execute_reply.started": "2021-11-10T15:01:34.175526Z"
    }
   },
   "outputs": [],
   "source": [
    "df['size'] = df['size'].replace('reguler','regular')"
   ]
  },
  {
   "cell_type": "code",
   "execution_count": 106,
   "metadata": {
    "execution": {
     "iopub.execute_input": "2021-11-10T15:01:34.186881Z",
     "iopub.status.busy": "2021-11-10T15:01:34.18654Z",
     "iopub.status.idle": "2021-11-10T15:01:34.458409Z",
     "shell.execute_reply": "2021-11-10T15:01:34.457403Z",
     "shell.execute_reply.started": "2021-11-10T15:01:34.186814Z"
    }
   },
   "outputs": [
    {
     "data": {
      "image/png": "[encoded data removed]",
      "text/plain": [
       "<Figure size 500x400 with 1 Axes>"
      ]
     },
     "metadata": {},
     "output_type": "display_data"
    }
   ],
   "source": [
    "plt.figure(figsize=(5,4))\n",
    "sns.boxplot(x='size', y='price', data=df)\n",
    "plt.title('Price by size')\n",
    "plt.show()"
   ]
  },
  {
   "cell_type": "markdown",
   "metadata": {},
   "source": [
    "**From this plot jumbo and regular pizzas seems to be more expensive. This sounds a bit weird for regular pizzas, since they should be cheaper than larger pizzas like Xl and large. This will be further analyzed later.**"
   ]
  },
  {
   "cell_type": "markdown",
   "metadata": {},
   "source": [
    "### Variant analysis"
   ]
  },
  {
   "cell_type": "markdown",
   "metadata": {},
   "source": [
    "The different pizza variants are:"
   ]
  },
  {
   "cell_type": "code",
   "execution_count": 107,
   "metadata": {
    "execution": {
     "iopub.execute_input": "2021-11-10T15:01:34.460062Z",
     "iopub.status.busy": "2021-11-10T15:01:34.459749Z",
     "iopub.status.idle": "2021-11-10T15:01:34.469772Z",
     "shell.execute_reply": "2021-11-10T15:01:34.468645Z",
     "shell.execute_reply.started": "2021-11-10T15:01:34.460022Z"
    }
   },
   "outputs": [
    {
     "data": {
      "text/plain": [
       "classic              30\n",
       "meat_lovers          10\n",
       "double_mix           10\n",
       "crunchy              10\n",
       "new_york             10\n",
       "double_decker         9\n",
       "double_signature      5\n",
       "american_favorite     5\n",
       "BBQ_meat_fiesta       5\n",
       "super_supreme         5\n",
       "spicy_tuna            3\n",
       "BBQ_sausage           3\n",
       "extravaganza          3\n",
       "meat_eater            3\n",
       "gournet_greek         3\n",
       "italian_veggie        3\n",
       "thai_veggie           3\n",
       "american_classic      3\n",
       "neptune_tuna          3\n",
       "spicy tuna            3\n",
       "Name: variant, dtype: int64"
      ]
     },
     "execution_count": 107,
     "metadata": {},
     "output_type": "execute_result"
    }
   ],
   "source": [
    "df.variant.value_counts()"
   ]
  },
  {
   "cell_type": "code",
   "execution_count": 108,
   "metadata": {
    "execution": {
     "iopub.execute_input": "2021-11-10T15:01:34.471947Z",
     "iopub.status.busy": "2021-11-10T15:01:34.471601Z",
     "iopub.status.idle": "2021-11-10T15:01:34.995509Z",
     "shell.execute_reply": "2021-11-10T15:01:34.994648Z",
     "shell.execute_reply.started": "2021-11-10T15:01:34.471906Z"
    }
   },
   "outputs": [
    {
     "data": {
      "image/png": "[encoded data removed]",
      "text/plain": [
       "<Figure size 700x700 with 1 Axes>"
      ]
     },
     "metadata": {},
     "output_type": "display_data"
    }
   ],
   "source": [
    "plt.figure(figsize=(7,7))\n",
    "sns.boxplot(y='variant', x='price', data=df, palette='mako')\n",
    "plt.title('Price by variant')\n",
    "plt.show()"
   ]
  },
  {
   "cell_type": "markdown",
   "metadata": {},
   "source": [
    "From this plot we can say that:<br>\n",
    "Double signature and double mix pizzas are more expensive than the other pizzas.<br>\n",
    "In particular, double signature pizza date has a large variance.<br>\n",
    "Classic and italian veggies are cheaper on average.<br>"
   ]
  },
  {
   "cell_type": "markdown",
   "metadata": {},
   "source": [
    "It could be interesting to check if there is a correlation between the variance, toppings and size (categorical variables))"
   ]
  },
  {
   "cell_type": "markdown",
   "metadata": {},
   "source": [
    "### Extra-toppings analysis"
   ]
  },
  {
   "cell_type": "code",
   "execution_count": 109,
   "metadata": {
    "execution": {
     "iopub.execute_input": "2021-11-10T15:01:34.996934Z",
     "iopub.status.busy": "2021-11-10T15:01:34.996716Z",
     "iopub.status.idle": "2021-11-10T15:01:35.011104Z",
     "shell.execute_reply": "2021-11-10T15:01:35.010124Z",
     "shell.execute_reply.started": "2021-11-10T15:01:34.99691Z"
    }
   },
   "outputs": [
    {
     "name": "stdout",
     "output_type": "stream",
     "text": [
      "<class 'pandas.core.frame.DataFrame'>\n",
      "RangeIndex: 129 entries, 0 to 128\n",
      "Data columns (total 9 columns):\n",
      " #   Column           Non-Null Count  Dtype  \n",
      "---  ------           --------------  -----  \n",
      " 0   company          129 non-null    object \n",
      " 1   diameter         129 non-null    float64\n",
      " 2   topping          129 non-null    object \n",
      " 3   variant          129 non-null    object \n",
      " 4   size             129 non-null    object \n",
      " 5   extra_sauce      129 non-null    object \n",
      " 6   extra_cheese     129 non-null    object \n",
      " 7   extra_mushrooms  129 non-null    object \n",
      " 8   price            129 non-null    int64  \n",
      "dtypes: float64(1), int64(1), object(7)\n",
      "memory usage: 9.2+ KB\n"
     ]
    }
   ],
   "source": [
    "df.info()"
   ]
  },
  {
   "cell_type": "code",
   "execution_count": 110,
   "metadata": {
    "execution": {
     "iopub.execute_input": "2021-11-10T15:01:35.012929Z",
     "iopub.status.busy": "2021-11-10T15:01:35.012425Z",
     "iopub.status.idle": "2021-11-10T15:01:35.203324Z",
     "shell.execute_reply": "2021-11-10T15:01:35.202657Z",
     "shell.execute_reply.started": "2021-11-10T15:01:35.012892Z"
    }
   },
   "outputs": [
    {
     "data": {
      "image/png": "[encoded data removed]",
      "text/plain": [
       "<Figure size 640x480 with 1 Axes>"
      ]
     },
     "metadata": {},
     "output_type": "display_data"
    }
   ],
   "source": [
    "sns.countplot(x='extra_sauce', data=df)\n",
    "plt.title('Extra sauce?')\n",
    "plt.show()"
   ]
  },
  {
   "cell_type": "code",
   "execution_count": 111,
   "metadata": {
    "execution": {
     "iopub.execute_input": "2021-11-10T15:01:35.204838Z",
     "iopub.status.busy": "2021-11-10T15:01:35.204469Z",
     "iopub.status.idle": "2021-11-10T15:01:35.371098Z",
     "shell.execute_reply": "2021-11-10T15:01:35.370225Z",
     "shell.execute_reply.started": "2021-11-10T15:01:35.204802Z"
    }
   },
   "outputs": [
    {
     "data": {
      "image/png": "[encoded data removed]",
      "text/plain": [
       "<Figure size 640x480 with 1 Axes>"
      ]
     },
     "metadata": {},
     "output_type": "display_data"
    }
   ],
   "source": [
    "sns.countplot(x='extra_cheese', data=df)\n",
    "plt.title('Extra cheese?')\n",
    "plt.show()"
   ]
  },
  {
   "cell_type": "code",
   "execution_count": 112,
   "metadata": {
    "execution": {
     "iopub.execute_input": "2021-11-10T15:01:35.372594Z",
     "iopub.status.busy": "2021-11-10T15:01:35.372328Z",
     "iopub.status.idle": "2021-11-10T15:01:35.557854Z",
     "shell.execute_reply": "2021-11-10T15:01:35.556952Z",
     "shell.execute_reply.started": "2021-11-10T15:01:35.372545Z"
    }
   },
   "outputs": [
    {
     "data": {
      "image/png": "[encoded data removed]",
      "text/plain": [
       "<Figure size 640x480 with 1 Axes>"
      ]
     },
     "metadata": {},
     "output_type": "display_data"
    }
   ],
   "source": [
    "sns.countplot(x='extra_mushrooms', data=df)\n",
    "plt.title('Extra mushrooms?')\n",
    "plt.show()"
   ]
  },
  {
   "cell_type": "markdown",
   "metadata": {},
   "source": [
    "**From these plots we can see that on average, most pizzas have extra toppings (mushrooms, cheese and sauce)<br>\n",
    "In particular, the most added toppings is extra cheese**"
   ]
  },
  {
   "cell_type": "markdown",
   "metadata": {},
   "source": [
    "### Is there a correlation between the extra toppings?"
   ]
  },
  {
   "cell_type": "markdown",
   "metadata": {},
   "source": [
    "To check the correlation between the extra toppings, yes and no will be first substitued by 1 and 0"
   ]
  },
  {
   "cell_type": "code",
   "execution_count": 113,
   "metadata": {
    "execution": {
     "iopub.execute_input": "2021-11-10T15:01:35.559681Z",
     "iopub.status.busy": "2021-11-10T15:01:35.559148Z",
     "iopub.status.idle": "2021-11-10T15:01:35.568732Z",
     "shell.execute_reply": "2021-11-10T15:01:35.568023Z",
     "shell.execute_reply.started": "2021-11-10T15:01:35.55964Z"
    }
   },
   "outputs": [],
   "source": [
    "df.replace(('yes', 'no'), (1, 0), inplace=True)"
   ]
  },
  {
   "cell_type": "code",
   "execution_count": 114,
   "metadata": {
    "execution": {
     "iopub.execute_input": "2021-11-10T15:01:35.57063Z",
     "iopub.status.busy": "2021-11-10T15:01:35.569975Z",
     "iopub.status.idle": "2021-11-10T15:01:35.981189Z",
     "shell.execute_reply": "2021-11-10T15:01:35.980212Z",
     "shell.execute_reply.started": "2021-11-10T15:01:35.570582Z"
    }
   },
   "outputs": [],
   "source": [
    "sns.heatmap(df.corr(), annot=True, cmap='RdBu', vmin=-1, vmax=1);\n",
    "plt.title('Correlation Matrix');"
   ]
  },
  {
   "cell_type": "markdown",
   "metadata": {},
   "source": [
    "It looks like that diameter is highly correlated with price, while other features does not seem to be correlated."
   ]
  },
  {
   "cell_type": "markdown",
   "metadata": {},
   "source": [
    "Moreover, the size feature could be converted into a numerical feature and analyzed."
   ]
  },
  {
   "cell_type": "code",
   "execution_count": 115,
   "metadata": {
    "execution": {
     "iopub.execute_input": "2021-11-10T15:01:35.982877Z",
     "iopub.status.busy": "2021-11-10T15:01:35.98261Z",
     "iopub.status.idle": "2021-11-10T15:01:36.2116Z",
     "shell.execute_reply": "2021-11-10T15:01:36.210673Z",
     "shell.execute_reply.started": "2021-11-10T15:01:35.982849Z"
    }
   },
   "outputs": [
    {
     "data": {
      "image/png": "[encoded data removed]",
      "text/plain": [
       "<Figure size 640x480 with 2 Axes>"
      ]
     },
     "metadata": {},
     "output_type": "display_data"
    }
   ],
   "source": [
    "sns.stripplot(x='size', y='diameter', data=df)\n",
    "plt.title('Diameter vs size')\n",
    "plt.show()"
   ]
  },
  {
   "cell_type": "markdown",
   "metadata": {},
   "source": [
    "Insights:\n",
    "- Small pizza have a diameter of 8 inches \n",
    "- Medium pizza have a diameter of 12 inches \n",
    "- Large pizza have a diameter of 14 inches \n",
    "- XL pizza have a diameter of 17 inches \n",
    "\n",
    "Interestingly, for 'regular' and 'jumbo' pizzas, the diameter is not fixed.<br>\n",
    "This will be further analyzed."
   ]
  },
  {
   "cell_type": "markdown",
   "metadata": {},
   "source": [
    "So, what makes a pizza jumbo or regular?"
   ]
  },
  {
   "cell_type": "markdown",
   "metadata": {},
   "source": [
    "### Jumbo sized pizza analysis"
   ]
  },
  {
   "cell_type": "code",
   "execution_count": 116,
   "metadata": {
    "execution": {
     "iopub.execute_input": "2021-11-10T15:01:36.212845Z",
     "iopub.status.busy": "2021-11-10T15:01:36.212627Z",
     "iopub.status.idle": "2021-11-10T15:01:36.22878Z",
     "shell.execute_reply": "2021-11-10T15:01:36.22777Z",
     "shell.execute_reply.started": "2021-11-10T15:01:36.212821Z"
    }
   },
   "outputs": [
    {
     "data": {
      "text/html": [
       "<div>\n",
       "<style scoped>\n",
       "    .dataframe tbody tr th:only-of-type {\n",
       "        vertical-align: middle;\n",
       "    }\n",
       "\n",
       "    .dataframe tbody tr th {\n",
       "        vertical-align: top;\n",
       "    }\n",
       "\n",
       "    .dataframe thead th {\n",
       "        text-align: right;\n",
       "    }\n",
       "</style>\n",
       "<table border=\"1\" class=\"dataframe\">\n",
       "  <thead>\n",
       "    <tr style=\"text-align: right;\">\n",
       "      <th></th>\n",
       "      <th>company</th>\n",
       "      <th>diameter</th>\n",
       "      <th>topping</th>\n",
       "      <th>variant</th>\n",
       "      <th>size</th>\n",
       "      <th>extra_sauce</th>\n",
       "      <th>extra_cheese</th>\n",
       "      <th>extra_mushrooms</th>\n",
       "      <th>price</th>\n",
       "    </tr>\n",
       "  </thead>\n",
       "  <tbody>\n",
       "    <tr>\n",
       "      <th>0</th>\n",
       "      <td>A</td>\n",
       "      <td>22.0</td>\n",
       "      <td>chicken</td>\n",
       "      <td>double_signature</td>\n",
       "      <td>jumbo</td>\n",
       "      <td>1</td>\n",
       "      <td>1</td>\n",
       "      <td>0</td>\n",
       "      <td>235000</td>\n",
       "    </tr>\n",
       "    <tr>\n",
       "      <th>1</th>\n",
       "      <td>A</td>\n",
       "      <td>20.0</td>\n",
       "      <td>pepperoni</td>\n",
       "      <td>double_signature</td>\n",
       "      <td>jumbo</td>\n",
       "      <td>1</td>\n",
       "      <td>1</td>\n",
       "      <td>0</td>\n",
       "      <td>198000</td>\n",
       "    </tr>\n",
       "    <tr>\n",
       "      <th>4</th>\n",
       "      <td>A</td>\n",
       "      <td>18.0</td>\n",
       "      <td>mozzarella</td>\n",
       "      <td>double_signature</td>\n",
       "      <td>jumbo</td>\n",
       "      <td>1</td>\n",
       "      <td>0</td>\n",
       "      <td>1</td>\n",
       "      <td>248000</td>\n",
       "    </tr>\n",
       "    <tr>\n",
       "      <th>5</th>\n",
       "      <td>A</td>\n",
       "      <td>18.5</td>\n",
       "      <td>black_pepper</td>\n",
       "      <td>american_favorite</td>\n",
       "      <td>jumbo</td>\n",
       "      <td>0</td>\n",
       "      <td>0</td>\n",
       "      <td>1</td>\n",
       "      <td>140000</td>\n",
       "    </tr>\n",
       "    <tr>\n",
       "      <th>6</th>\n",
       "      <td>A</td>\n",
       "      <td>16.0</td>\n",
       "      <td>smoked_beef</td>\n",
       "      <td>american_favorite</td>\n",
       "      <td>jumbo</td>\n",
       "      <td>0</td>\n",
       "      <td>1</td>\n",
       "      <td>1</td>\n",
       "      <td>110000</td>\n",
       "    </tr>\n",
       "  </tbody>\n",
       "</table>\n",
       "</div>"
      ],
      "text/plain": [
       "  company  diameter       topping            variant   size  extra_sauce  \\\n",
       "0       A      22.0       chicken   double_signature  jumbo            1   \n",
       "1       A      20.0     pepperoni   double_signature  jumbo            1   \n",
       "4       A      18.0    mozzarella   double_signature  jumbo            1   \n",
       "5       A      18.5  black_pepper  american_favorite  jumbo            0   \n",
       "6       A      16.0   smoked_beef  american_favorite  jumbo            0   \n",
       "\n",
       "   extra_cheese  extra_mushrooms   price  \n",
       "0             1                0  235000  \n",
       "1             1                0  198000  \n",
       "4             0                1  248000  \n",
       "5             0                1  140000  \n",
       "6             1                1  110000  "
      ]
     },
     "execution_count": 116,
     "metadata": {},
     "output_type": "execute_result"
    }
   ],
   "source": [
    "df_jumbo = df[df['size'] == 'jumbo']\n",
    "df_jumbo.head()"
   ]
  },
  {
   "cell_type": "markdown",
   "metadata": {},
   "source": [
    "It looks like all these pizzas are from the company A, is that so?"
   ]
  },
  {
   "cell_type": "code",
   "execution_count": 117,
   "metadata": {
    "execution": {
     "iopub.execute_input": "2021-11-10T15:01:36.230732Z",
     "iopub.status.busy": "2021-11-10T15:01:36.23Z",
     "iopub.status.idle": "2021-11-10T15:01:36.242711Z",
     "shell.execute_reply": "2021-11-10T15:01:36.241917Z",
     "shell.execute_reply.started": "2021-11-10T15:01:36.2307Z"
    }
   },
   "outputs": [
    {
     "data": {
      "text/plain": [
       "A    11\n",
       "D     4\n",
       "Name: company, dtype: int64"
      ]
     },
     "execution_count": 117,
     "metadata": {},
     "output_type": "execute_result"
    }
   ],
   "source": [
    "df_jumbo.company.value_counts()"
   ]
  },
  {
   "cell_type": "markdown",
   "metadata": {},
   "source": [
    "It looks like there are only 15 jumbo pizzas in the dataset. In particular among these 15, 11 are from the company A while the other 4 are from company D"
   ]
  },
  {
   "cell_type": "code",
   "execution_count": 118,
   "metadata": {
    "execution": {
     "iopub.execute_input": "2021-11-10T15:01:36.244273Z",
     "iopub.status.busy": "2021-11-10T15:01:36.244028Z",
     "iopub.status.idle": "2021-11-10T15:01:36.257637Z",
     "shell.execute_reply": "2021-11-10T15:01:36.256947Z",
     "shell.execute_reply.started": "2021-11-10T15:01:36.244245Z"
    }
   },
   "outputs": [
    {
     "data": {
      "text/plain": [
       "C    30\n",
       "E    30\n",
       "A    25\n",
       "B    24\n",
       "D    20\n",
       "Name: company, dtype: int64"
      ]
     },
     "execution_count": 118,
     "metadata": {},
     "output_type": "execute_result"
    }
   ],
   "source": [
    "df.company.value_counts()"
   ]
  },
  {
   "cell_type": "markdown",
   "metadata": {},
   "source": [
    "For what concerns the original dataset, it seems to be banalced among different companies (from A to E)"
   ]
  },
  {
   "cell_type": "code",
   "execution_count": 119,
   "metadata": {
    "execution": {
     "iopub.execute_input": "2021-11-10T15:01:36.258802Z",
     "iopub.status.busy": "2021-11-10T15:01:36.25851Z",
     "iopub.status.idle": "2021-11-10T15:01:36.655694Z",
     "shell.execute_reply": "2021-11-10T15:01:36.654822Z",
     "shell.execute_reply.started": "2021-11-10T15:01:36.258774Z"
    }
   },
   "outputs": [
    {
     "data": {
      "image/png": "[encoded data removed]",
      "text/plain": [
       "<Figure size 500x500 with 1 Axes>"
      ]
     },
     "metadata": {},
     "output_type": "display_data"
    }
   ],
   "source": [
    "sns.displot(x='price', data=df_jumbo)\n",
    "plt.title('Price for jumbo pizzas')\n",
    "plt.show()"
   ]
  },
  {
   "cell_type": "markdown",
   "metadata": {},
   "source": [
    "The minimum price is 125000 rupiah, which is higher than the average price of all pizzas ( around 87000 rupiah)"
   ]
  },
  {
   "cell_type": "code",
   "execution_count": 120,
   "metadata": {
    "execution": {
     "iopub.execute_input": "2021-11-10T15:01:36.657314Z",
     "iopub.status.busy": "2021-11-10T15:01:36.656994Z",
     "iopub.status.idle": "2021-11-10T15:01:37.041266Z",
     "shell.execute_reply": "2021-11-10T15:01:37.040319Z",
     "shell.execute_reply.started": "2021-11-10T15:01:36.657273Z"
    }
   },
   "outputs": [
    {
     "data": {
      "image/png": "[encoded data removed]",
      "text/plain": [
       "<Figure size 640x480 with 1 Axes>"
      ]
     },
     "metadata": {},
     "output_type": "display_data"
    }
   ],
   "source": [
    "sns.countplot(x='diameter', data=df_jumbo)\n",
    "plt.title('Diameter for jumbo pizzas')\n",
    "plt.show()"
   ]
  },
  {
   "cell_type": "markdown",
   "metadata": {},
   "source": [
    "Among jumbo pizzas, the diamater seems higher than 17 inches (XL size pizzas diameter).<br>\n",
    "What about those jumbo pizzas with a 16 inches diameter?"
   ]
  },
  {
   "cell_type": "code",
   "execution_count": 121,
   "metadata": {
    "execution": {
     "iopub.execute_input": "2021-11-10T15:01:37.047476Z",
     "iopub.status.busy": "2021-11-10T15:01:37.047201Z",
     "iopub.status.idle": "2021-11-10T15:01:37.06321Z",
     "shell.execute_reply": "2021-11-10T15:01:37.06225Z",
     "shell.execute_reply.started": "2021-11-10T15:01:37.047448Z"
    }
   },
   "outputs": [
    {
     "data": {
      "text/html": [
       "<div>\n",
       "<style scoped>\n",
       "    .dataframe tbody tr th:only-of-type {\n",
       "        vertical-align: middle;\n",
       "    }\n",
       "\n",
       "    .dataframe tbody tr th {\n",
       "        vertical-align: top;\n",
       "    }\n",
       "\n",
       "    .dataframe thead th {\n",
       "        text-align: right;\n",
       "    }\n",
       "</style>\n",
       "<table border=\"1\" class=\"dataframe\">\n",
       "  <thead>\n",
       "    <tr style=\"text-align: right;\">\n",
       "      <th></th>\n",
       "      <th>company</th>\n",
       "      <th>diameter</th>\n",
       "      <th>topping</th>\n",
       "      <th>variant</th>\n",
       "      <th>size</th>\n",
       "      <th>extra_sauce</th>\n",
       "      <th>extra_cheese</th>\n",
       "      <th>extra_mushrooms</th>\n",
       "      <th>price</th>\n",
       "    </tr>\n",
       "  </thead>\n",
       "  <tbody>\n",
       "    <tr>\n",
       "      <th>6</th>\n",
       "      <td>A</td>\n",
       "      <td>16.0</td>\n",
       "      <td>smoked_beef</td>\n",
       "      <td>american_favorite</td>\n",
       "      <td>jumbo</td>\n",
       "      <td>0</td>\n",
       "      <td>1</td>\n",
       "      <td>1</td>\n",
       "      <td>110000</td>\n",
       "    </tr>\n",
       "    <tr>\n",
       "      <th>11</th>\n",
       "      <td>A</td>\n",
       "      <td>16.0</td>\n",
       "      <td>black_pepper</td>\n",
       "      <td>super_supreme</td>\n",
       "      <td>jumbo</td>\n",
       "      <td>1</td>\n",
       "      <td>1</td>\n",
       "      <td>0</td>\n",
       "      <td>110000</td>\n",
       "    </tr>\n",
       "    <tr>\n",
       "      <th>16</th>\n",
       "      <td>A</td>\n",
       "      <td>16.0</td>\n",
       "      <td>smoked_beef</td>\n",
       "      <td>meat_lovers</td>\n",
       "      <td>jumbo</td>\n",
       "      <td>0</td>\n",
       "      <td>1</td>\n",
       "      <td>1</td>\n",
       "      <td>110000</td>\n",
       "    </tr>\n",
       "    <tr>\n",
       "      <th>80</th>\n",
       "      <td>D</td>\n",
       "      <td>16.0</td>\n",
       "      <td>smoked_beef</td>\n",
       "      <td>meat_lovers</td>\n",
       "      <td>jumbo</td>\n",
       "      <td>0</td>\n",
       "      <td>1</td>\n",
       "      <td>0</td>\n",
       "      <td>110000</td>\n",
       "    </tr>\n",
       "  </tbody>\n",
       "</table>\n",
       "</div>"
      ],
      "text/plain": [
       "   company  diameter       topping            variant   size  extra_sauce  \\\n",
       "6        A      16.0   smoked_beef  american_favorite  jumbo            0   \n",
       "11       A      16.0  black_pepper      super_supreme  jumbo            1   \n",
       "16       A      16.0   smoked_beef        meat_lovers  jumbo            0   \n",
       "80       D      16.0   smoked_beef        meat_lovers  jumbo            0   \n",
       "\n",
       "    extra_cheese  extra_mushrooms   price  \n",
       "6              1                1  110000  \n",
       "11             1                0  110000  \n",
       "16             1                1  110000  \n",
       "80             1                0  110000  "
      ]
     },
     "execution_count": 121,
     "metadata": {},
     "output_type": "execute_result"
    }
   ],
   "source": [
    "df_jumbo[df_jumbo['diameter']==16]"
   ]
  },
  {
   "cell_type": "markdown",
   "metadata": {},
   "source": [
    "These 4 pizzas have a small diameter despite being a jumbo pizza. They will be considered as outliers and dropped."
   ]
  },
  {
   "cell_type": "code",
   "execution_count": 122,
   "metadata": {
    "execution": {
     "iopub.execute_input": "2021-11-10T15:01:37.06471Z",
     "iopub.status.busy": "2021-11-10T15:01:37.064436Z",
     "iopub.status.idle": "2021-11-10T15:01:37.076258Z",
     "shell.execute_reply": "2021-11-10T15:01:37.075139Z",
     "shell.execute_reply.started": "2021-11-10T15:01:37.064671Z"
    }
   },
   "outputs": [],
   "source": [
    "df = df.loc[~((df['size'] == 'jumbo') & (df['diameter'] == 16)),:]"
   ]
  },
  {
   "cell_type": "code",
   "execution_count": 123,
   "metadata": {
    "execution": {
     "iopub.execute_input": "2021-11-10T15:01:37.078084Z",
     "iopub.status.busy": "2021-11-10T15:01:37.077802Z",
     "iopub.status.idle": "2021-11-10T15:01:37.317036Z",
     "shell.execute_reply": "2021-11-10T15:01:37.316113Z",
     "shell.execute_reply.started": "2021-11-10T15:01:37.078052Z"
    }
   },
   "outputs": [
    {
     "data": {
      "image/png": "[encoded data removed]",
      "text/plain": [
       "<Figure size 640x480 with 1 Axes>"
      ]
     },
     "metadata": {},
     "output_type": "display_data"
    }
   ],
   "source": [
    "sns.stripplot(x='size', y='diameter', data=df)\n",
    "plt.title('Diameter vs size')\n",
    "plt.show()"
   ]
  },
  {
   "cell_type": "markdown",
   "metadata": {},
   "source": [
    "## Regular pizza analysis"
   ]
  },
  {
   "cell_type": "code",
   "execution_count": 124,
   "metadata": {
    "execution": {
     "iopub.execute_input": "2021-11-10T15:01:37.318869Z",
     "iopub.status.busy": "2021-11-10T15:01:37.318486Z",
     "iopub.status.idle": "2021-11-10T15:01:37.334709Z",
     "shell.execute_reply": "2021-11-10T15:01:37.333638Z",
     "shell.execute_reply.started": "2021-11-10T15:01:37.318829Z"
    }
   },
   "outputs": [
    {
     "data": {
      "text/html": [
       "<div>\n",
       "<style scoped>\n",
       "    .dataframe tbody tr th:only-of-type {\n",
       "        vertical-align: middle;\n",
       "    }\n",
       "\n",
       "    .dataframe tbody tr th {\n",
       "        vertical-align: top;\n",
       "    }\n",
       "\n",
       "    .dataframe thead th {\n",
       "        text-align: right;\n",
       "    }\n",
       "</style>\n",
       "<table border=\"1\" class=\"dataframe\">\n",
       "  <thead>\n",
       "    <tr style=\"text-align: right;\">\n",
       "      <th></th>\n",
       "      <th>company</th>\n",
       "      <th>diameter</th>\n",
       "      <th>topping</th>\n",
       "      <th>variant</th>\n",
       "      <th>size</th>\n",
       "      <th>extra_sauce</th>\n",
       "      <th>extra_cheese</th>\n",
       "      <th>extra_mushrooms</th>\n",
       "      <th>price</th>\n",
       "    </tr>\n",
       "  </thead>\n",
       "  <tbody>\n",
       "    <tr>\n",
       "      <th>2</th>\n",
       "      <td>A</td>\n",
       "      <td>16.0</td>\n",
       "      <td>mushrooms</td>\n",
       "      <td>double_signature</td>\n",
       "      <td>regular</td>\n",
       "      <td>1</td>\n",
       "      <td>1</td>\n",
       "      <td>1</td>\n",
       "      <td>120000</td>\n",
       "    </tr>\n",
       "    <tr>\n",
       "      <th>3</th>\n",
       "      <td>A</td>\n",
       "      <td>14.0</td>\n",
       "      <td>smoked_beef</td>\n",
       "      <td>double_signature</td>\n",
       "      <td>regular</td>\n",
       "      <td>1</td>\n",
       "      <td>0</td>\n",
       "      <td>1</td>\n",
       "      <td>155000</td>\n",
       "    </tr>\n",
       "    <tr>\n",
       "      <th>7</th>\n",
       "      <td>A</td>\n",
       "      <td>8.0</td>\n",
       "      <td>pepperoni</td>\n",
       "      <td>american_favorite</td>\n",
       "      <td>regular</td>\n",
       "      <td>0</td>\n",
       "      <td>0</td>\n",
       "      <td>1</td>\n",
       "      <td>70000</td>\n",
       "    </tr>\n",
       "    <tr>\n",
       "      <th>8</th>\n",
       "      <td>A</td>\n",
       "      <td>12.0</td>\n",
       "      <td>mushrooms</td>\n",
       "      <td>american_favorite</td>\n",
       "      <td>regular</td>\n",
       "      <td>1</td>\n",
       "      <td>0</td>\n",
       "      <td>1</td>\n",
       "      <td>90000</td>\n",
       "    </tr>\n",
       "    <tr>\n",
       "      <th>9</th>\n",
       "      <td>A</td>\n",
       "      <td>12.0</td>\n",
       "      <td>smoked_beef</td>\n",
       "      <td>american_favorite</td>\n",
       "      <td>regular</td>\n",
       "      <td>0</td>\n",
       "      <td>0</td>\n",
       "      <td>0</td>\n",
       "      <td>90000</td>\n",
       "    </tr>\n",
       "  </tbody>\n",
       "</table>\n",
       "</div>"
      ],
      "text/plain": [
       "  company  diameter      topping            variant     size  extra_sauce  \\\n",
       "2       A      16.0    mushrooms   double_signature  regular            1   \n",
       "3       A      14.0  smoked_beef   double_signature  regular            1   \n",
       "7       A       8.0    pepperoni  american_favorite  regular            0   \n",
       "8       A      12.0    mushrooms  american_favorite  regular            1   \n",
       "9       A      12.0  smoked_beef  american_favorite  regular            0   \n",
       "\n",
       "   extra_cheese  extra_mushrooms   price  \n",
       "2             1                1  120000  \n",
       "3             0                1  155000  \n",
       "7             0                1   70000  \n",
       "8             0                1   90000  \n",
       "9             0                0   90000  "
      ]
     },
     "execution_count": 124,
     "metadata": {},
     "output_type": "execute_result"
    }
   ],
   "source": [
    "df_regular = df[df['size'] == 'regular']\n",
    "df_regular.head()"
   ]
  },
  {
   "cell_type": "code",
   "execution_count": 125,
   "metadata": {
    "execution": {
     "iopub.execute_input": "2021-11-10T15:01:37.336898Z",
     "iopub.status.busy": "2021-11-10T15:01:37.336285Z",
     "iopub.status.idle": "2021-11-10T15:01:37.349574Z",
     "shell.execute_reply": "2021-11-10T15:01:37.348699Z",
     "shell.execute_reply.started": "2021-11-10T15:01:37.336853Z"
    }
   },
   "outputs": [
    {
     "name": "stdout",
     "output_type": "stream",
     "text": [
      "<class 'pandas.core.frame.DataFrame'>\n",
      "Int64Index: 20 entries, 2 to 88\n",
      "Data columns (total 9 columns):\n",
      " #   Column           Non-Null Count  Dtype  \n",
      "---  ------           --------------  -----  \n",
      " 0   company          20 non-null     object \n",
      " 1   diameter         20 non-null     float64\n",
      " 2   topping          20 non-null     object \n",
      " 3   variant          20 non-null     object \n",
      " 4   size             20 non-null     object \n",
      " 5   extra_sauce      20 non-null     int64  \n",
      " 6   extra_cheese     20 non-null     int64  \n",
      " 7   extra_mushrooms  20 non-null     int64  \n",
      " 8   price            20 non-null     int64  \n",
      "dtypes: float64(1), int64(4), object(4)\n",
      "memory usage: 1.6+ KB\n"
     ]
    }
   ],
   "source": [
    "df_regular.info()"
   ]
  },
  {
   "cell_type": "code",
   "execution_count": 126,
   "metadata": {
    "execution": {
     "iopub.execute_input": "2021-11-10T15:01:37.351278Z",
     "iopub.status.busy": "2021-11-10T15:01:37.351069Z",
     "iopub.status.idle": "2021-11-10T15:01:37.35891Z",
     "shell.execute_reply": "2021-11-10T15:01:37.358146Z",
     "shell.execute_reply.started": "2021-11-10T15:01:37.351254Z"
    }
   },
   "outputs": [
    {
     "data": {
      "text/plain": [
       "A    14\n",
       "D     6\n",
       "Name: company, dtype: int64"
      ]
     },
     "execution_count": 126,
     "metadata": {},
     "output_type": "execute_result"
    }
   ],
   "source": [
    "df_regular.company.value_counts()"
   ]
  },
  {
   "cell_type": "markdown",
   "metadata": {},
   "source": [
    "Like Jumbo pizzas, regular pizzas are only sold by company A and D"
   ]
  },
  {
   "cell_type": "code",
   "execution_count": 127,
   "metadata": {
    "execution": {
     "iopub.execute_input": "2021-11-10T15:01:37.360781Z",
     "iopub.status.busy": "2021-11-10T15:01:37.360074Z",
     "iopub.status.idle": "2021-11-10T15:01:37.584485Z",
     "shell.execute_reply": "2021-11-10T15:01:37.583647Z",
     "shell.execute_reply.started": "2021-11-10T15:01:37.360748Z"
    }
   },
   "outputs": [
    {
     "data": {
      "image/png": "[encoded data removed]",
      "text/plain": [
       "<Figure size 640x480 with 1 Axes>"
      ]
     },
     "metadata": {},
     "output_type": "display_data"
    }
   ],
   "source": [
    "sns.countplot(x='price', data=df_regular)\n",
    "plt.title('Regular Pizza price')\n",
    "plt.show()"
   ]
  },
  {
   "cell_type": "markdown",
   "metadata": {},
   "source": [
    "Most regular pizza sems to have a price around 90000 rupiah, which is close to the overall average (87000)"
   ]
  },
  {
   "cell_type": "code",
   "execution_count": 128,
   "metadata": {
    "execution": {
     "iopub.execute_input": "2021-11-10T15:01:37.585851Z",
     "iopub.status.busy": "2021-11-10T15:01:37.585619Z",
     "iopub.status.idle": "2021-11-10T15:01:37.798475Z",
     "shell.execute_reply": "2021-11-10T15:01:37.797621Z",
     "shell.execute_reply.started": "2021-11-10T15:01:37.585826Z"
    }
   },
   "outputs": [
    {
     "data": {
      "image/png": "[encoded data removed]",
      "text/plain": [
       "<Figure size 640x480 with 1 Axes>"
      ]
     },
     "metadata": {},
     "output_type": "display_data"
    }
   ],
   "source": [
    "sns.countplot(x='diameter', data=df_regular)\n",
    "plt.title('Regular Pizza diameter')\n",
    "plt.show()"
   ]
  },
  {
   "cell_type": "markdown",
   "metadata": {},
   "source": [
    "**Most of regular pizza have a 12 inches diameter**"
   ]
  },
  {
   "cell_type": "markdown",
   "metadata": {},
   "source": [
    "What about the variants?"
   ]
  },
  {
   "cell_type": "code",
   "execution_count": 129,
   "metadata": {
    "execution": {
     "iopub.execute_input": "2021-11-10T15:01:37.799792Z",
     "iopub.status.busy": "2021-11-10T15:01:37.799584Z",
     "iopub.status.idle": "2021-11-10T15:01:37.806294Z",
     "shell.execute_reply": "2021-11-10T15:01:37.80562Z",
     "shell.execute_reply.started": "2021-11-10T15:01:37.799769Z"
    }
   },
   "outputs": [
    {
     "data": {
      "text/plain": [
       "meat_lovers          6\n",
       "double_mix           6\n",
       "american_favorite    3\n",
       "super_supreme        3\n",
       "double_signature     2\n",
       "Name: variant, dtype: int64"
      ]
     },
     "execution_count": 129,
     "metadata": {},
     "output_type": "execute_result"
    }
   ],
   "source": [
    "df_regular.variant.value_counts()"
   ]
  },
  {
   "cell_type": "markdown",
   "metadata": {},
   "source": [
    "The most popular variants are meat_lovers and double_mix."
   ]
  },
  {
   "cell_type": "markdown",
   "metadata": {},
   "source": [
    "It is still not clear what makes a regular pizza a regular pizza. The size should be related only to the diameter. For this reason, pizza with a regular size will be dropped from the dataframe."
   ]
  },
  {
   "cell_type": "code",
   "execution_count": 130,
   "metadata": {
    "execution": {
     "iopub.execute_input": "2021-11-10T15:01:37.808067Z",
     "iopub.status.busy": "2021-11-10T15:01:37.807239Z",
     "iopub.status.idle": "2021-11-10T15:01:37.81939Z",
     "shell.execute_reply": "2021-11-10T15:01:37.818678Z",
     "shell.execute_reply.started": "2021-11-10T15:01:37.808038Z"
    }
   },
   "outputs": [],
   "source": [
    "df = df.loc[~(df['size'] == 'regular'),:]"
   ]
  },
  {
   "cell_type": "code",
   "execution_count": 131,
   "metadata": {
    "execution": {
     "iopub.execute_input": "2021-11-10T15:01:37.821012Z",
     "iopub.status.busy": "2021-11-10T15:01:37.820336Z",
     "iopub.status.idle": "2021-11-10T15:01:37.840835Z",
     "shell.execute_reply": "2021-11-10T15:01:37.840074Z",
     "shell.execute_reply.started": "2021-11-10T15:01:37.82098Z"
    }
   },
   "outputs": [
    {
     "data": {
      "text/html": [
       "<div>\n",
       "<style scoped>\n",
       "    .dataframe tbody tr th:only-of-type {\n",
       "        vertical-align: middle;\n",
       "    }\n",
       "\n",
       "    .dataframe tbody tr th {\n",
       "        vertical-align: top;\n",
       "    }\n",
       "\n",
       "    .dataframe thead th {\n",
       "        text-align: right;\n",
       "    }\n",
       "</style>\n",
       "<table border=\"1\" class=\"dataframe\">\n",
       "  <thead>\n",
       "    <tr style=\"text-align: right;\">\n",
       "      <th></th>\n",
       "      <th>company</th>\n",
       "      <th>diameter</th>\n",
       "      <th>topping</th>\n",
       "      <th>variant</th>\n",
       "      <th>size</th>\n",
       "      <th>extra_sauce</th>\n",
       "      <th>extra_cheese</th>\n",
       "      <th>extra_mushrooms</th>\n",
       "      <th>price</th>\n",
       "    </tr>\n",
       "  </thead>\n",
       "  <tbody>\n",
       "    <tr>\n",
       "      <th>0</th>\n",
       "      <td>A</td>\n",
       "      <td>22.0</td>\n",
       "      <td>chicken</td>\n",
       "      <td>double_signature</td>\n",
       "      <td>jumbo</td>\n",
       "      <td>1</td>\n",
       "      <td>1</td>\n",
       "      <td>0</td>\n",
       "      <td>235000</td>\n",
       "    </tr>\n",
       "    <tr>\n",
       "      <th>1</th>\n",
       "      <td>A</td>\n",
       "      <td>20.0</td>\n",
       "      <td>pepperoni</td>\n",
       "      <td>double_signature</td>\n",
       "      <td>jumbo</td>\n",
       "      <td>1</td>\n",
       "      <td>1</td>\n",
       "      <td>0</td>\n",
       "      <td>198000</td>\n",
       "    </tr>\n",
       "    <tr>\n",
       "      <th>4</th>\n",
       "      <td>A</td>\n",
       "      <td>18.0</td>\n",
       "      <td>mozzarella</td>\n",
       "      <td>double_signature</td>\n",
       "      <td>jumbo</td>\n",
       "      <td>1</td>\n",
       "      <td>0</td>\n",
       "      <td>1</td>\n",
       "      <td>248000</td>\n",
       "    </tr>\n",
       "    <tr>\n",
       "      <th>5</th>\n",
       "      <td>A</td>\n",
       "      <td>18.5</td>\n",
       "      <td>black_pepper</td>\n",
       "      <td>american_favorite</td>\n",
       "      <td>jumbo</td>\n",
       "      <td>0</td>\n",
       "      <td>0</td>\n",
       "      <td>1</td>\n",
       "      <td>140000</td>\n",
       "    </tr>\n",
       "    <tr>\n",
       "      <th>10</th>\n",
       "      <td>A</td>\n",
       "      <td>18.5</td>\n",
       "      <td>mozzarella</td>\n",
       "      <td>super_supreme</td>\n",
       "      <td>jumbo</td>\n",
       "      <td>0</td>\n",
       "      <td>0</td>\n",
       "      <td>0</td>\n",
       "      <td>140000</td>\n",
       "    </tr>\n",
       "  </tbody>\n",
       "</table>\n",
       "</div>"
      ],
      "text/plain": [
       "   company  diameter       topping            variant   size  extra_sauce  \\\n",
       "0        A      22.0       chicken   double_signature  jumbo            1   \n",
       "1        A      20.0     pepperoni   double_signature  jumbo            1   \n",
       "4        A      18.0    mozzarella   double_signature  jumbo            1   \n",
       "5        A      18.5  black_pepper  american_favorite  jumbo            0   \n",
       "10       A      18.5    mozzarella      super_supreme  jumbo            0   \n",
       "\n",
       "    extra_cheese  extra_mushrooms   price  \n",
       "0              1                0  235000  \n",
       "1              1                0  198000  \n",
       "4              0                1  248000  \n",
       "5              0                1  140000  \n",
       "10             0                0  140000  "
      ]
     },
     "execution_count": 131,
     "metadata": {},
     "output_type": "execute_result"
    }
   ],
   "source": [
    "df.head()"
   ]
  },
  {
   "cell_type": "code",
   "execution_count": 132,
   "metadata": {
    "execution": {
     "iopub.execute_input": "2021-11-10T15:01:37.84262Z",
     "iopub.status.busy": "2021-11-10T15:01:37.84236Z",
     "iopub.status.idle": "2021-11-10T15:01:37.860917Z",
     "shell.execute_reply": "2021-11-10T15:01:37.860093Z",
     "shell.execute_reply.started": "2021-11-10T15:01:37.842591Z"
    }
   },
   "outputs": [
    {
     "name": "stdout",
     "output_type": "stream",
     "text": [
      "<class 'pandas.core.frame.DataFrame'>\n",
      "Int64Index: 105 entries, 0 to 128\n",
      "Data columns (total 9 columns):\n",
      " #   Column           Non-Null Count  Dtype  \n",
      "---  ------           --------------  -----  \n",
      " 0   company          105 non-null    object \n",
      " 1   diameter         105 non-null    float64\n",
      " 2   topping          105 non-null    object \n",
      " 3   variant          105 non-null    object \n",
      " 4   size             105 non-null    object \n",
      " 5   extra_sauce      105 non-null    int64  \n",
      " 6   extra_cheese     105 non-null    int64  \n",
      " 7   extra_mushrooms  105 non-null    int64  \n",
      " 8   price            105 non-null    int64  \n",
      "dtypes: float64(1), int64(4), object(4)\n",
      "memory usage: 8.2+ KB\n"
     ]
    }
   ],
   "source": [
    "df.info()"
   ]
  },
  {
   "cell_type": "markdown",
   "metadata": {},
   "source": [
    "We dropped 20 regular pizzas and 4 jumbo pizzas (outliers)"
   ]
  },
  {
   "cell_type": "markdown",
   "metadata": {},
   "source": [
    "# Pizza price prediction"
   ]
  },
  {
   "cell_type": "markdown",
   "metadata": {},
   "source": [
    "Now it is possible to perform a regression on the price features of the pizzas."
   ]
  },
  {
   "cell_type": "markdown",
   "metadata": {},
   "source": [
    "# Encoding"
   ]
  },
  {
   "cell_type": "markdown",
   "metadata": {},
   "source": [
    "First, we need to encode the categorical variables.\n",
    "\n",
    "Topping and variant would be better to be encoded by One hot encoding since there is no order/hierarchy among them. However, this would mean to have 40 columns in total, which are too many compared to the number of rows, which are just 105. For this reason, we will encode these columns by LabelEncoder.\n",
    "\n",
    "Finally, 'size' will be encoded by label encoder since there actually exists an hierachy/order among sizes."
   ]
  },
  {
   "cell_type": "markdown",
   "metadata": {},
   "source": [
    "A new dataframe with the encoded features will be created."
   ]
  },
  {
   "cell_type": "code",
   "execution_count": 133,
   "metadata": {
    "execution": {
     "iopub.execute_input": "2021-11-10T15:01:37.862304Z",
     "iopub.status.busy": "2021-11-10T15:01:37.861823Z",
     "iopub.status.idle": "2021-11-10T15:01:37.866665Z",
     "shell.execute_reply": "2021-11-10T15:01:37.865874Z",
     "shell.execute_reply.started": "2021-11-10T15:01:37.862273Z"
    }
   },
   "outputs": [],
   "source": [
    "encoded_df = df.copy()"
   ]
  },
  {
   "cell_type": "code",
   "execution_count": 134,
   "metadata": {
    "execution": {
     "iopub.execute_input": "2021-11-10T15:01:37.867829Z",
     "iopub.status.busy": "2021-11-10T15:01:37.867602Z",
     "iopub.status.idle": "2021-11-10T15:01:37.881512Z",
     "shell.execute_reply": "2021-11-10T15:01:37.880879Z",
     "shell.execute_reply.started": "2021-11-10T15:01:37.867805Z"
    }
   },
   "outputs": [
    {
     "data": {
      "text/plain": [
       "medium    41\n",
       "small     22\n",
       "large     21\n",
       "jumbo     11\n",
       "XL        10\n",
       "Name: size, dtype: int64"
      ]
     },
     "execution_count": 134,
     "metadata": {},
     "output_type": "execute_result"
    }
   ],
   "source": [
    "encoded_df['size'].value_counts()"
   ]
  },
  {
   "cell_type": "code",
   "execution_count": 135,
   "metadata": {
    "execution": {
     "iopub.execute_input": "2021-11-10T15:01:37.88331Z",
     "iopub.status.busy": "2021-11-10T15:01:37.882578Z",
     "iopub.status.idle": "2021-11-10T15:01:37.89432Z",
     "shell.execute_reply": "2021-11-10T15:01:37.893661Z",
     "shell.execute_reply.started": "2021-11-10T15:01:37.883275Z"
    }
   },
   "outputs": [],
   "source": [
    "encoded_df['size'] = encoded_df['size'].map({'small':'0','medium':'1','large':'2','XL':'3','jumbo':'4'})"
   ]
  },
  {
   "cell_type": "code",
   "execution_count": 136,
   "metadata": {
    "execution": {
     "iopub.execute_input": "2021-11-10T15:01:37.895811Z",
     "iopub.status.busy": "2021-11-10T15:01:37.895536Z",
     "iopub.status.idle": "2021-11-10T15:01:37.907997Z",
     "shell.execute_reply": "2021-11-10T15:01:37.907115Z",
     "shell.execute_reply.started": "2021-11-10T15:01:37.895783Z"
    }
   },
   "outputs": [],
   "source": [
    "categorical_cols = ['topping', 'variant','company']\n",
    "encoder = LabelEncoder()\n",
    "for col in categorical_cols:\n",
    "    encoded_df[col] = encoder.fit_transform(encoded_df[col])"
   ]
  },
  {
   "cell_type": "code",
   "execution_count": 137,
   "metadata": {
    "execution": {
     "iopub.execute_input": "2021-11-10T15:01:37.909841Z",
     "iopub.status.busy": "2021-11-10T15:01:37.909087Z",
     "iopub.status.idle": "2021-11-10T15:01:37.928792Z",
     "shell.execute_reply": "2021-11-10T15:01:37.928137Z",
     "shell.execute_reply.started": "2021-11-10T15:01:37.909805Z"
    }
   },
   "outputs": [
    {
     "data": {
      "text/html": [
       "<div>\n",
       "<style scoped>\n",
       "    .dataframe tbody tr th:only-of-type {\n",
       "        vertical-align: middle;\n",
       "    }\n",
       "\n",
       "    .dataframe tbody tr th {\n",
       "        vertical-align: top;\n",
       "    }\n",
       "\n",
       "    .dataframe thead th {\n",
       "        text-align: right;\n",
       "    }\n",
       "</style>\n",
       "<table border=\"1\" class=\"dataframe\">\n",
       "  <thead>\n",
       "    <tr style=\"text-align: right;\">\n",
       "      <th></th>\n",
       "      <th>company</th>\n",
       "      <th>diameter</th>\n",
       "      <th>topping</th>\n",
       "      <th>variant</th>\n",
       "      <th>size</th>\n",
       "      <th>extra_sauce</th>\n",
       "      <th>extra_cheese</th>\n",
       "      <th>extra_mushrooms</th>\n",
       "      <th>price</th>\n",
       "    </tr>\n",
       "  </thead>\n",
       "  <tbody>\n",
       "    <tr>\n",
       "      <th>0</th>\n",
       "      <td>0</td>\n",
       "      <td>22.0</td>\n",
       "      <td>2</td>\n",
       "      <td>8</td>\n",
       "      <td>4</td>\n",
       "      <td>1</td>\n",
       "      <td>1</td>\n",
       "      <td>0</td>\n",
       "      <td>235000</td>\n",
       "    </tr>\n",
       "    <tr>\n",
       "      <th>1</th>\n",
       "      <td>0</td>\n",
       "      <td>20.0</td>\n",
       "      <td>7</td>\n",
       "      <td>8</td>\n",
       "      <td>4</td>\n",
       "      <td>1</td>\n",
       "      <td>1</td>\n",
       "      <td>0</td>\n",
       "      <td>198000</td>\n",
       "    </tr>\n",
       "    <tr>\n",
       "      <th>4</th>\n",
       "      <td>0</td>\n",
       "      <td>18.0</td>\n",
       "      <td>4</td>\n",
       "      <td>8</td>\n",
       "      <td>4</td>\n",
       "      <td>1</td>\n",
       "      <td>0</td>\n",
       "      <td>1</td>\n",
       "      <td>248000</td>\n",
       "    </tr>\n",
       "    <tr>\n",
       "      <th>5</th>\n",
       "      <td>0</td>\n",
       "      <td>18.5</td>\n",
       "      <td>1</td>\n",
       "      <td>3</td>\n",
       "      <td>4</td>\n",
       "      <td>0</td>\n",
       "      <td>0</td>\n",
       "      <td>1</td>\n",
       "      <td>140000</td>\n",
       "    </tr>\n",
       "    <tr>\n",
       "      <th>10</th>\n",
       "      <td>0</td>\n",
       "      <td>18.5</td>\n",
       "      <td>4</td>\n",
       "      <td>18</td>\n",
       "      <td>4</td>\n",
       "      <td>0</td>\n",
       "      <td>0</td>\n",
       "      <td>0</td>\n",
       "      <td>140000</td>\n",
       "    </tr>\n",
       "  </tbody>\n",
       "</table>\n",
       "</div>"
      ],
      "text/plain": [
       "    company  diameter  topping  variant size  extra_sauce  extra_cheese  \\\n",
       "0         0      22.0        2        8    4            1             1   \n",
       "1         0      20.0        7        8    4            1             1   \n",
       "4         0      18.0        4        8    4            1             0   \n",
       "5         0      18.5        1        3    4            0             0   \n",
       "10        0      18.5        4       18    4            0             0   \n",
       "\n",
       "    extra_mushrooms   price  \n",
       "0                 0  235000  \n",
       "1                 0  198000  \n",
       "4                 1  248000  \n",
       "5                 1  140000  \n",
       "10                0  140000  "
      ]
     },
     "execution_count": 137,
     "metadata": {},
     "output_type": "execute_result"
    }
   ],
   "source": [
    "encoded_df.head()"
   ]
  },
  {
   "cell_type": "markdown",
   "metadata": {},
   "source": [
    "## Data preparation"
   ]
  },
  {
   "cell_type": "code",
   "execution_count": 138,
   "metadata": {
    "execution": {
     "iopub.execute_input": "2021-11-10T15:01:37.930159Z",
     "iopub.status.busy": "2021-11-10T15:01:37.929926Z",
     "iopub.status.idle": "2021-11-10T15:01:37.941037Z",
     "shell.execute_reply": "2021-11-10T15:01:37.940186Z",
     "shell.execute_reply.started": "2021-11-10T15:01:37.930133Z"
    }
   },
   "outputs": [],
   "source": [
    "X=encoded_df.drop('price', axis = 1).values"
   ]
  },
  {
   "cell_type": "code",
   "execution_count": 139,
   "metadata": {
    "execution": {
     "iopub.execute_input": "2021-11-10T15:01:37.942952Z",
     "iopub.status.busy": "2021-11-10T15:01:37.942549Z",
     "iopub.status.idle": "2021-11-10T15:01:37.954053Z",
     "shell.execute_reply": "2021-11-10T15:01:37.953342Z",
     "shell.execute_reply.started": "2021-11-10T15:01:37.942912Z"
    }
   },
   "outputs": [],
   "source": [
    "y=encoded_df['price'].values"
   ]
  },
  {
   "cell_type": "code",
   "execution_count": 140,
   "metadata": {
    "execution": {
     "iopub.execute_input": "2021-11-10T15:01:37.955512Z",
     "iopub.status.busy": "2021-11-10T15:01:37.955255Z",
     "iopub.status.idle": "2021-11-10T15:01:37.96618Z",
     "shell.execute_reply": "2021-11-10T15:01:37.965216Z",
     "shell.execute_reply.started": "2021-11-10T15:01:37.955485Z"
    }
   },
   "outputs": [],
   "source": [
    "X_train, X_test, y_train, y_test = train_test_split(X, y, test_size = 0.25, random_state = 42)"
   ]
  },
  {
   "cell_type": "markdown",
   "metadata": {},
   "source": [
    "# Lasso model"
   ]
  },
  {
   "cell_type": "code",
   "execution_count": 141,
   "metadata": {
    "execution": {
     "iopub.execute_input": "2021-11-10T15:01:37.968158Z",
     "iopub.status.busy": "2021-11-10T15:01:37.967354Z",
     "iopub.status.idle": "2021-11-10T15:01:37.980825Z",
     "shell.execute_reply": "2021-11-10T15:01:37.979913Z",
     "shell.execute_reply.started": "2021-11-10T15:01:37.968114Z"
    }
   },
   "outputs": [
    {
     "name": "stdout",
     "output_type": "stream",
     "text": [
      "RMSE using LASSO:  25061.998525775474\n"
     ]
    }
   ],
   "source": [
    "lm_lasso=Lasso(alpha = 1, max_iter = 1000, tol = 1e-3)\n",
    "lm_lasso.fit(X_train,y_train)\n",
    "y_pred_lm_lasso = lm_lasso.predict(X_test)\n",
    "mse_lm_lasso = mean_squared_error(y_test, y_pred_lm_lasso)\n",
    "print(\"RMSE using LASSO: \", np.sqrt(mse_lm_lasso))"
   ]
  },
  {
   "cell_type": "markdown",
   "metadata": {},
   "source": [
    "# Random Forest model"
   ]
  },
  {
   "cell_type": "code",
   "execution_count": 142,
   "metadata": {
    "execution": {
     "iopub.execute_input": "2021-11-10T15:01:37.982785Z",
     "iopub.status.busy": "2021-11-10T15:01:37.982103Z",
     "iopub.status.idle": "2021-11-10T15:01:37.989918Z",
     "shell.execute_reply": "2021-11-10T15:01:37.98908Z",
     "shell.execute_reply.started": "2021-11-10T15:01:37.982745Z"
    }
   },
   "outputs": [],
   "source": [
    "rf = RandomForestRegressor()"
   ]
  },
  {
   "cell_type": "code",
   "execution_count": 143,
   "metadata": {
    "execution": {
     "iopub.execute_input": "2021-11-10T15:01:37.992468Z",
     "iopub.status.busy": "2021-11-10T15:01:37.991497Z",
     "iopub.status.idle": "2021-11-10T15:01:38.128281Z",
     "shell.execute_reply": "2021-11-10T15:01:38.127306Z",
     "shell.execute_reply.started": "2021-11-10T15:01:37.992424Z"
    }
   },
   "outputs": [
    {
     "data": {
      "text/plain": [
       "RandomForestRegressor()"
      ]
     },
     "execution_count": 143,
     "metadata": {},
     "output_type": "execute_result"
    }
   ],
   "source": [
    "rf.fit(X_train, y_train)"
   ]
  },
  {
   "cell_type": "code",
   "execution_count": 144,
   "metadata": {
    "execution": {
     "iopub.execute_input": "2021-11-10T15:01:38.129817Z",
     "iopub.status.busy": "2021-11-10T15:01:38.129483Z",
     "iopub.status.idle": "2021-11-10T15:01:38.143454Z",
     "shell.execute_reply": "2021-11-10T15:01:38.142784Z",
     "shell.execute_reply.started": "2021-11-10T15:01:38.129779Z"
    }
   },
   "outputs": [],
   "source": [
    "y_pred_rf = rf.predict(X_test)"
   ]
  },
  {
   "cell_type": "code",
   "execution_count": 145,
   "metadata": {
    "execution": {
     "iopub.execute_input": "2021-11-10T15:01:38.145744Z",
     "iopub.status.busy": "2021-11-10T15:01:38.144788Z",
     "iopub.status.idle": "2021-11-10T15:01:38.15197Z",
     "shell.execute_reply": "2021-11-10T15:01:38.150397Z",
     "shell.execute_reply.started": "2021-11-10T15:01:38.145688Z"
    }
   },
   "outputs": [
    {
     "name": "stdout",
     "output_type": "stream",
     "text": [
      "RMSE using RF:  14340.368008863288\n"
     ]
    }
   ],
   "source": [
    "mse_rf = mean_squared_error(y_test, y_pred_rf)\n",
    "print(\"RMSE using RF: \", np.sqrt(mse_rf))"
   ]
  },
  {
   "cell_type": "code",
   "execution_count": 146,
   "metadata": {
    "execution": {
     "iopub.execute_input": "2021-11-10T15:01:38.15459Z",
     "iopub.status.busy": "2021-11-10T15:01:38.153909Z",
     "iopub.status.idle": "2021-11-10T15:01:38.164483Z",
     "shell.execute_reply": "2021-11-10T15:01:38.163585Z",
     "shell.execute_reply.started": "2021-11-10T15:01:38.154524Z"
    }
   },
   "outputs": [
    {
     "name": "stdout",
     "output_type": "stream",
     "text": [
      "RF R2 score : 0.9009081914342681\n"
     ]
    }
   ],
   "source": [
    "print(\"RF R2 score :\", r2_score(y_test,y_pred_rf))"
   ]
  },
  {
   "cell_type": "markdown",
   "metadata": {},
   "source": [
    "# XGBoost"
   ]
  },
  {
   "cell_type": "code",
   "execution_count": 147,
   "metadata": {
    "execution": {
     "iopub.execute_input": "2021-11-10T15:01:38.16668Z",
     "iopub.status.busy": "2021-11-10T15:01:38.166075Z",
     "iopub.status.idle": "2021-11-10T15:01:38.176556Z",
     "shell.execute_reply": "2021-11-10T15:01:38.175851Z",
     "shell.execute_reply.started": "2021-11-10T15:01:38.166636Z"
    }
   },
   "outputs": [],
   "source": [
    "xgb = XGBRegressor() "
   ]
  },
  {
   "cell_type": "code",
   "execution_count": 148,
   "metadata": {
    "execution": {
     "iopub.execute_input": "2021-11-10T15:01:38.178192Z",
     "iopub.status.busy": "2021-11-10T15:01:38.177791Z",
     "iopub.status.idle": "2021-11-10T15:01:38.252748Z",
     "shell.execute_reply": "2021-11-10T15:01:38.251832Z",
     "shell.execute_reply.started": "2021-11-10T15:01:38.178164Z"
    }
   },
   "outputs": [
    {
     "data": {
      "text/plain": [
       "XGBRegressor(base_score=None, booster=None, callbacks=None,\n",
       "             colsample_bylevel=None, colsample_bynode=None,\n",
       "             colsample_bytree=None, early_stopping_rounds=None,\n",
       "             enable_categorical=False, eval_metric=None, feature_types=None,\n",
       "             gamma=None, gpu_id=None, grow_policy=None, importance_type=None,\n",
       "             interaction_constraints=None, learning_rate=None, max_bin=None,\n",
       "             max_cat_threshold=None, max_cat_to_onehot=None,\n",
       "             max_delta_step=None, max_depth=None, max_leaves=None,\n",
       "             min_child_weight=None, missing=nan, monotone_constraints=None,\n",
       "             n_estimators=100, n_jobs=None, num_parallel_tree=None,\n",
       "             predictor=None, random_state=None, ...)"
      ]
     },
     "execution_count": 148,
     "metadata": {},
     "output_type": "execute_result"
    }
   ],
   "source": [
    "xgb.fit(X_train, y_train) "
   ]
  },
  {
   "cell_type": "code",
   "execution_count": 149,
   "metadata": {
    "execution": {
     "iopub.execute_input": "2021-11-10T15:01:38.254502Z",
     "iopub.status.busy": "2021-11-10T15:01:38.254008Z",
     "iopub.status.idle": "2021-11-10T15:01:38.261893Z",
     "shell.execute_reply": "2021-11-10T15:01:38.261215Z",
     "shell.execute_reply.started": "2021-11-10T15:01:38.254462Z"
    }
   },
   "outputs": [],
   "source": [
    "y_pred_xgb = xgb.predict(X_test) "
   ]
  },
  {
   "cell_type": "code",
   "execution_count": 150,
   "metadata": {
    "execution": {
     "iopub.execute_input": "2021-11-10T15:01:38.264123Z",
     "iopub.status.busy": "2021-11-10T15:01:38.263538Z",
     "iopub.status.idle": "2021-11-10T15:01:38.272638Z",
     "shell.execute_reply": "2021-11-10T15:01:38.2716Z",
     "shell.execute_reply.started": "2021-11-10T15:01:38.264084Z"
    }
   },
   "outputs": [
    {
     "name": "stdout",
     "output_type": "stream",
     "text": [
      "RMSE: 12334.456291462075\n"
     ]
    }
   ],
   "source": [
    "mse_xgb = mean_squared_error(y_pred_xgb, y_test)\n",
    "print(\"RMSE:\" , np.sqrt(mse_xgb))"
   ]
  },
  {
   "cell_type": "code",
   "execution_count": 151,
   "metadata": {
    "execution": {
     "iopub.execute_input": "2021-11-10T15:01:38.275597Z",
     "iopub.status.busy": "2021-11-10T15:01:38.274579Z",
     "iopub.status.idle": "2021-11-10T15:01:38.282263Z",
     "shell.execute_reply": "2021-11-10T15:01:38.281746Z",
     "shell.execute_reply.started": "2021-11-10T15:01:38.275531Z"
    }
   },
   "outputs": [
    {
     "name": "stdout",
     "output_type": "stream",
     "text": [
      "XGBoost R2 score : 0.9266910190376925\n"
     ]
    }
   ],
   "source": [
    "print(\"XGBoost R2 score :\", r2_score(y_test,y_pred_xgb))"
   ]
  },
  {
   "cell_type": "code",
   "execution_count": 152,
   "metadata": {
    "execution": {
     "iopub.execute_input": "2021-11-10T15:56:46.744294Z",
     "iopub.status.busy": "2021-11-10T15:56:46.743984Z",
     "iopub.status.idle": "2021-11-10T15:56:47.008044Z",
     "shell.execute_reply": "2021-11-10T15:56:47.007408Z",
     "shell.execute_reply.started": "2021-11-10T15:56:46.744263Z"
    }
   },
   "outputs": [
    {
     "data": {
      "image/png": "[encoded data removed]",
      "text/plain": [
       "<Figure size 500x500 with 1 Axes>"
      ]
     },
     "metadata": {},
     "output_type": "display_data"
    }
   ],
   "source": [
    "plt.figure(figsize = (5,5))\n",
    "plt.scatter(y_test, y_pred_lm_lasso, label='LASSO, R2 {:.2f} %'.format(r2_score(y_test, y_pred_lm_lasso)*100))\n",
    "plt.scatter(y_test, y_pred_rf, label='RF, R2 {:.2f} %'.format(r2_score(y_test, y_pred_rf)*100))\n",
    "plt.scatter(y_test, y_pred_xgb, label='XGBoost, R2 {:.2f} %'.format(r2_score(y_test, y_pred_xgb)*100))\n",
    "plt.plot([0, 250000], [0, 250000], linestyle='--')\n",
    "plt.axis([0, 250000, 0, 250000])\n",
    "plt.xlabel('Y Test')\n",
    "plt.ylabel('Predicted Y')\n",
    "plt.title('Price Regression by ML models')\n",
    "plt.legend(loc='upper left');\n",
    "plt.show()"
   ]
  },
  {
   "cell_type": "code",
   "execution_count": 153,
   "metadata": {
    "execution": {
     "iopub.execute_input": "2021-11-10T15:01:38.597782Z",
     "iopub.status.busy": "2021-11-10T15:01:38.597578Z",
     "iopub.status.idle": "2021-11-10T15:01:38.602387Z",
     "shell.execute_reply": "2021-11-10T15:01:38.60185Z",
     "shell.execute_reply.started": "2021-11-10T15:01:38.597759Z"
    }
   },
   "outputs": [
    {
     "name": "stdout",
     "output_type": "stream",
     "text": [
      "RMSE using LASSO: 25062.00 rupiah\n",
      "RMSE using RF: 14340.37 rupiah\n",
      "RMSE using XGBoost: 12334.46 rupiah\n"
     ]
    }
   ],
   "source": [
    "print(\"RMSE using LASSO: {:.2f} rupiah\".format(np.sqrt(mse_lm_lasso)))\n",
    "print(\"RMSE using RF: {:.2f} rupiah\".format(np.sqrt(mse_rf)))\n",
    "print(\"RMSE using XGBoost: {:.2f} rupiah\".format(np.sqrt(mse_xgb)))"
   ]
  },
  {
   "cell_type": "code",
   "execution_count": 154,
   "metadata": {
    "execution": {
     "iopub.execute_input": "2021-11-10T15:01:38.603434Z",
     "iopub.status.busy": "2021-11-10T15:01:38.603225Z",
     "iopub.status.idle": "2021-11-10T15:01:38.618336Z",
     "shell.execute_reply": "2021-11-10T15:01:38.617323Z",
     "shell.execute_reply.started": "2021-11-10T15:01:38.60341Z"
    }
   },
   "outputs": [
    {
     "name": "stdout",
     "output_type": "stream",
     "text": [
      "R2 using LASSO: 69.73 %\n",
      "R2 using Random Forest: 90.09 %\n",
      "R2 using XGBoost: 92.67 %\n"
     ]
    }
   ],
   "source": [
    "print(\"R2 using LASSO: {:.2f} %\".format(r2_score(y_test, y_pred_lm_lasso)*100))\n",
    "print(\"R2 using Random Forest: {:.2f} %\".format(r2_score(y_test, y_pred_rf)*100))\n",
    "print(\"R2 using XGBoost: {:.2f} %\".format(r2_score(y_test, y_pred_xgb)*100))"
   ]
  },
  {
   "cell_type": "markdown",
   "metadata": {},
   "source": [
    "We get the best result in terms of RMSE and R2 by using XGBoost regressor."
   ]
  },
  {
   "cell_type": "code",
   "execution_count": null,
   "metadata": {},
   "outputs": [],
   "source": []
  }
 ],
 "metadata": {
  "kernelspec": {
   "display_name": "Python 3 (ipykernel)",
   "language": "python",
   "name": "python3"
  },
  "language_info": {
   "codemirror_mode": {
    "name": "ipython",
    "version": 3
   },
   "file_extension": ".py",
   "mimetype": "text/x-python",
   "name": "python",
   "nbconvert_exporter": "python",
   "pygments_lexer": "ipython3",
   "version": "3.9.13"
  }
 },
 "nbformat": 4,
 "nbformat_minor": 4
}
